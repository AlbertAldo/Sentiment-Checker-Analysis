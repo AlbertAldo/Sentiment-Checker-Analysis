{
 "cells": [
  {
   "cell_type": "code",
   "execution_count": 1,
   "metadata": {},
   "outputs": [],
   "source": [
    "import numpy as np\n",
    "import pandas as pd\n",
    "import matplotlib.pyplot as plt\n",
    "import seaborn as sns\n",
    "import warnings\n",
    "warnings.filterwarnings('ignore')"
   ]
  },
  {
   "cell_type": "code",
   "execution_count": 2,
   "metadata": {},
   "outputs": [],
   "source": [
    "pd.options.display.max_columns = 999\n",
    "sns.set_style('whitegrid')"
   ]
  },
  {
   "cell_type": "code",
   "execution_count": 3,
   "metadata": {},
   "outputs": [],
   "source": [
    "from sklearn.model_selection import train_test_split, GridSearchCV, StratifiedKFold\n",
    "from sklearn.metrics import accuracy_score, precision_score, recall_score, f1_score, confusion_matrix, classification_report\n",
    "\n",
    "from sklearn.compose import ColumnTransformer\n",
    "from sklearn.pipeline import Pipeline\n",
    "from sklearn.impute import SimpleImputer\n",
    "\n",
    "from sklearn.neighbors import KNeighborsClassifier\n",
    "from sklearn.linear_model import LogisticRegression\n",
    "from sklearn.tree import DecisionTreeClassifier\n",
    "from sklearn.ensemble import RandomForestClassifier\n",
    "from sklearn.feature_extraction.text import CountVectorizer, TfidfVectorizer"
   ]
  },
  {
   "cell_type": "markdown",
   "metadata": {},
   "source": [
    "## Problems\n",
    "***In times like today, the development of social media is very rapidly and had an impact on an existing business. When word of mouth is carried out by netizens on a business product, it will have a good impact and a bad impact. If the good impact is received, it will make profits for the business company, but if the bad impact is carried out by certain individuals such as for example hate speech on the product, badmouthing the product, insulting the product it will harmful the business company,  Therefore it is necessary to have a machine that can assist in filtering negative sentiments that entering our business products.***\n",
    "\n",
    "## Goals\n",
    "***Can provide a solution to the problem above by making a machine that can predict a sentence that has a negative or positive connotation, to prevent negative sentences that have an impact on our product business.***"
   ]
  },
  {
   "cell_type": "markdown",
   "metadata": {},
   "source": [
    "## Data Source\n",
    "    Thanks to all the sources who have given permission to use the data by publishing it on the website.\n",
    "    \n",
    "    The Source all as follows:\n",
    "    1. https://repo.telematika.org/project/louisowen6_nlp_bahasa_resources/\n",
    "    2. https://www.kaggle.com/ilhamfp31/indonesian-abusive-and-hate-speech-twitter-text?select=data.csv\n",
    "    3. https://rizalespe.github.io/Dataset-Sentimen-Analisis-Bahasa-Indonesia/\n",
    " "
   ]
  },
  {
   "cell_type": "code",
   "execution_count": 4,
   "metadata": {},
   "outputs": [
    {
     "data": {
      "text/html": [
       "<div>\n",
       "<style scoped>\n",
       "    .dataframe tbody tr th:only-of-type {\n",
       "        vertical-align: middle;\n",
       "    }\n",
       "\n",
       "    .dataframe tbody tr th {\n",
       "        vertical-align: top;\n",
       "    }\n",
       "\n",
       "    .dataframe thead th {\n",
       "        text-align: right;\n",
       "    }\n",
       "</style>\n",
       "<table border=\"1\" class=\"dataframe\">\n",
       "  <thead>\n",
       "    <tr style=\"text-align: right;\">\n",
       "      <th></th>\n",
       "      <th>Text</th>\n",
       "      <th>sentiment</th>\n",
       "      <th>text_lower</th>\n",
       "      <th>text_token</th>\n",
       "      <th>text_without_number</th>\n",
       "      <th>text_no_punctuation</th>\n",
       "      <th>text_exception</th>\n",
       "      <th>text_no_stopwords</th>\n",
       "      <th>convert_slangwords</th>\n",
       "      <th>convert_emojimeaning</th>\n",
       "      <th>unpacking_sentence</th>\n",
       "      <th>stemmed</th>\n",
       "      <th>text_token_stemmed</th>\n",
       "      <th>text_no_stopwords_stemmed</th>\n",
       "      <th>final</th>\n",
       "      <th>length_words</th>\n",
       "    </tr>\n",
       "  </thead>\n",
       "  <tbody>\n",
       "    <tr>\n",
       "      <th>0</th>\n",
       "      <td>inkonsisten</td>\n",
       "      <td>-1</td>\n",
       "      <td>inkonsisten</td>\n",
       "      <td>['inkonsisten']</td>\n",
       "      <td>['inkonsisten']</td>\n",
       "      <td>['inkonsisten']</td>\n",
       "      <td>['inkonsisten']</td>\n",
       "      <td>['inkonsisten']</td>\n",
       "      <td>['inkonsisten']</td>\n",
       "      <td>['inkonsisten']</td>\n",
       "      <td>inkonsisten</td>\n",
       "      <td>inkonsisten</td>\n",
       "      <td>['inkonsisten']</td>\n",
       "      <td>['inkonsisten']</td>\n",
       "      <td>inkonsisten</td>\n",
       "      <td>1</td>\n",
       "    </tr>\n",
       "    <tr>\n",
       "      <th>1</th>\n",
       "      <td>porno</td>\n",
       "      <td>-1</td>\n",
       "      <td>porno</td>\n",
       "      <td>['porno']</td>\n",
       "      <td>['porno']</td>\n",
       "      <td>['porno']</td>\n",
       "      <td>['porno']</td>\n",
       "      <td>['porno']</td>\n",
       "      <td>['porno']</td>\n",
       "      <td>['porno']</td>\n",
       "      <td>porno</td>\n",
       "      <td>porno</td>\n",
       "      <td>['porno']</td>\n",
       "      <td>['porno']</td>\n",
       "      <td>porno</td>\n",
       "      <td>1</td>\n",
       "    </tr>\n",
       "    <tr>\n",
       "      <th>2</th>\n",
       "      <td>teroris</td>\n",
       "      <td>-1</td>\n",
       "      <td>teroris</td>\n",
       "      <td>['teroris']</td>\n",
       "      <td>['teroris']</td>\n",
       "      <td>['teroris']</td>\n",
       "      <td>['teroris']</td>\n",
       "      <td>['teroris']</td>\n",
       "      <td>['teroris']</td>\n",
       "      <td>['teroris']</td>\n",
       "      <td>teroris</td>\n",
       "      <td>teroris</td>\n",
       "      <td>['teroris']</td>\n",
       "      <td>['teroris']</td>\n",
       "      <td>teroris</td>\n",
       "      <td>1</td>\n",
       "    </tr>\n",
       "    <tr>\n",
       "      <th>3</th>\n",
       "      <td>sesat</td>\n",
       "      <td>-1</td>\n",
       "      <td>sesat</td>\n",
       "      <td>['sesat']</td>\n",
       "      <td>['sesat']</td>\n",
       "      <td>['sesat']</td>\n",
       "      <td>['sesat']</td>\n",
       "      <td>['sesat']</td>\n",
       "      <td>['sesat']</td>\n",
       "      <td>['sesat']</td>\n",
       "      <td>sesat</td>\n",
       "      <td>sesat</td>\n",
       "      <td>['sesat']</td>\n",
       "      <td>['sesat']</td>\n",
       "      <td>sesat</td>\n",
       "      <td>1</td>\n",
       "    </tr>\n",
       "    <tr>\n",
       "      <th>4</th>\n",
       "      <td>tuntut</td>\n",
       "      <td>-1</td>\n",
       "      <td>tuntut</td>\n",
       "      <td>['tuntut']</td>\n",
       "      <td>['tuntut']</td>\n",
       "      <td>['tuntut']</td>\n",
       "      <td>['tuntut']</td>\n",
       "      <td>['tuntut']</td>\n",
       "      <td>['tuntut']</td>\n",
       "      <td>['tuntut']</td>\n",
       "      <td>tuntut</td>\n",
       "      <td>tuntut</td>\n",
       "      <td>['tuntut']</td>\n",
       "      <td>['tuntut']</td>\n",
       "      <td>tuntut</td>\n",
       "      <td>1</td>\n",
       "    </tr>\n",
       "    <tr>\n",
       "      <th>...</th>\n",
       "      <td>...</td>\n",
       "      <td>...</td>\n",
       "      <td>...</td>\n",
       "      <td>...</td>\n",
       "      <td>...</td>\n",
       "      <td>...</td>\n",
       "      <td>...</td>\n",
       "      <td>...</td>\n",
       "      <td>...</td>\n",
       "      <td>...</td>\n",
       "      <td>...</td>\n",
       "      <td>...</td>\n",
       "      <td>...</td>\n",
       "      <td>...</td>\n",
       "      <td>...</td>\n",
       "      <td>...</td>\n",
       "    </tr>\n",
       "    <tr>\n",
       "      <th>17332</th>\n",
       "      <td>Kali saja bpk @aniesbaswedan @sandiuno lihat, ...</td>\n",
       "      <td>1</td>\n",
       "      <td>kali saja bpk @aniesbaswedan @sandiuno lihat, ...</td>\n",
       "      <td>['kali', 'saja', 'bpk', '@', 'aniesbaswedan', ...</td>\n",
       "      <td>['kali', 'saja', 'bpk', '@', 'aniesbaswedan', ...</td>\n",
       "      <td>['kali', 'saja', 'bpk', 'aniesbaswedan', 'sand...</td>\n",
       "      <td>['kali', 'saja', 'bpk', 'aniesbaswedan', 'sand...</td>\n",
       "      <td>['kali', 'bapak', 'aniesbaswedan', 'sandiuno',...</td>\n",
       "      <td>['kali', 'bapak', 'aniesbaswedan', 'sandiuno',...</td>\n",
       "      <td>['kali', 'bapak', 'aniesbaswedan', 'sandiuno',...</td>\n",
       "      <td>kali bapak aniesbaswedan sandiuno lihat rspun ...</td>\n",
       "      <td>kali bapak aniesbaswedan sandiuno lihat rspun ...</td>\n",
       "      <td>['kali', 'bapak', 'aniesbaswedan', 'sandiuno',...</td>\n",
       "      <td>['kali', 'aniesbaswedan', 'sandiuno', 'lihat',...</td>\n",
       "      <td>kali aniesbaswedan sandiuno lihat rspun swafot...</td>\n",
       "      <td>12</td>\n",
       "    </tr>\n",
       "    <tr>\n",
       "      <th>17333</th>\n",
       "      <td>Kita harus dapat merangkul semua orang tanpa b...</td>\n",
       "      <td>1</td>\n",
       "      <td>kita harus dapat merangkul semua orang tanpa b...</td>\n",
       "      <td>['kita', 'harus', 'dapat', 'merangkul', 'semua...</td>\n",
       "      <td>['kita', 'harus', 'dapat', 'merangkul', 'semua...</td>\n",
       "      <td>['kita', 'harus', 'dapat', 'merangkul', 'semua...</td>\n",
       "      <td>['kita', 'harus', 'dapat', 'merangkul', 'semua...</td>\n",
       "      <td>['merangkul', 'orang', 'batas', 'usia', 'kelam...</td>\n",
       "      <td>['merangkul', 'orang', 'batas', 'usia', 'kelam...</td>\n",
       "      <td>['merangkul', 'orang', 'batas', 'usia', 'kelam...</td>\n",
       "      <td>merangkul orang batas usia kelamin oke oce oke...</td>\n",
       "      <td>rangkul orang batas usia kelamin oke oce oke h...</td>\n",
       "      <td>['rangkul', 'orang', 'batas', 'usia', 'kelamin...</td>\n",
       "      <td>['rangkul', 'orang', 'batas', 'usia', 'kelamin...</td>\n",
       "      <td>rangkul orang batas usia kelamin oke oce oke h...</td>\n",
       "      <td>16</td>\n",
       "    </tr>\n",
       "    <tr>\n",
       "      <th>17334</th>\n",
       "      <td>Ini jagoanku dibidang digital &lt;Smiling Face Wi...</td>\n",
       "      <td>1</td>\n",
       "      <td>ini jagoanku dibidang digital &lt;smiling face wi...</td>\n",
       "      <td>['ini', 'jagoanku', 'dibidang', 'digital', '&lt;'...</td>\n",
       "      <td>['ini', 'jagoanku', 'dibidang', 'digital', '&lt;'...</td>\n",
       "      <td>['ini', 'jagoanku', 'dibidang', 'digital', 'sm...</td>\n",
       "      <td>['ini', 'jagoanku', 'dibidang', 'digital', 'sm...</td>\n",
       "      <td>['jagoanku', 'dibidang', 'digital', 'smiling',...</td>\n",
       "      <td>['jagoanku', 'dibidang', 'digital', 'smiling',...</td>\n",
       "      <td>['jagoanku', 'dibidang', 'digital', 'smiling',...</td>\n",
       "      <td>jagoanku dibidang digital smiling face dengan ...</td>\n",
       "      <td>jago bidang digital smiling face dengan sungla...</td>\n",
       "      <td>['jago', 'bidang', 'digital', 'smiling', 'face...</td>\n",
       "      <td>['jago', 'bidang', 'digital', 'smiling', 'face...</td>\n",
       "      <td>jago bidang digital smiling face sunglasses ok...</td>\n",
       "      <td>11</td>\n",
       "    </tr>\n",
       "    <tr>\n",
       "      <th>17335</th>\n",
       "      <td>#PesanBijak #OkeOce #GubernurGu3 ...</td>\n",
       "      <td>1</td>\n",
       "      <td>#pesanbijak #okeoce #gubernurgu3 ...</td>\n",
       "      <td>['#', 'pesanbijak', '#', 'okeoce', '#', 'guber...</td>\n",
       "      <td>['#', 'pesanbijak', '#', 'okeoce', '#', 'guber...</td>\n",
       "      <td>['pesanbijak', 'okeoce', 'gubernurgu3', '...']</td>\n",
       "      <td>['pesanbijak', 'okeoce', 'gubernurgu3']</td>\n",
       "      <td>['pesanbijak', 'oke oce', 'gubernurgu3']</td>\n",
       "      <td>['pesanbijak', 'oke', 'oce', 'gubernurgu3']</td>\n",
       "      <td>['pesanbijak', 'oke', 'oce', 'gubernurgu3']</td>\n",
       "      <td>pesanbijak oke oce gubernurgu3</td>\n",
       "      <td>pesanbijak oke oce gubernurgu3</td>\n",
       "      <td>['pesanbijak', 'oke', 'oce', 'gubernurgu3']</td>\n",
       "      <td>['pesanbijak', 'oke', 'oce', 'gubernurgu3']</td>\n",
       "      <td>pesanbijak oke oce gubernurgu3</td>\n",
       "      <td>4</td>\n",
       "    </tr>\n",
       "    <tr>\n",
       "      <th>17336</th>\n",
       "      <td>Sandiaga: Bangun Rumah DP 0% Lebih Simpel Diba...</td>\n",
       "      <td>1</td>\n",
       "      <td>sandiaga: bangun rumah dp 0% lebih simpel diba...</td>\n",
       "      <td>['sandiaga', ':', 'bangun', 'rumah', 'dp', '0'...</td>\n",
       "      <td>['sandiaga', ':', 'bangun', 'rumah', 'dp', '%'...</td>\n",
       "      <td>['sandiaga', 'bangun', 'rumah', 'dp', 'lebih',...</td>\n",
       "      <td>['sandiaga', 'bangun', 'rumah', 'dp', 'lebih',...</td>\n",
       "      <td>['sandiaga', 'bangun', 'rumah', 'uang muka', '...</td>\n",
       "      <td>['sandiaga', 'bangun', 'rumah', 'uang', 'muka'...</td>\n",
       "      <td>['sandiaga', 'bangun', 'rumah', 'uang', 'muka'...</td>\n",
       "      <td>sandiaga bangun rumah uang muka simpel dibandi...</td>\n",
       "      <td>sandiaga bangun rumah uang muka simpel banding...</td>\n",
       "      <td>['sandiaga', 'bangun', 'rumah', 'uang', 'muka'...</td>\n",
       "      <td>['sandiaga', 'bangun', 'rumah', 'uang', 'muka'...</td>\n",
       "      <td>sandiaga bangun rumah uang muka simpel banding...</td>\n",
       "      <td>14</td>\n",
       "    </tr>\n",
       "  </tbody>\n",
       "</table>\n",
       "<p>17337 rows × 16 columns</p>\n",
       "</div>"
      ],
      "text/plain": [
       "                                                    Text  sentiment  \\\n",
       "0                                            inkonsisten         -1   \n",
       "1                                                  porno         -1   \n",
       "2                                                teroris         -1   \n",
       "3                                                  sesat         -1   \n",
       "4                                                 tuntut         -1   \n",
       "...                                                  ...        ...   \n",
       "17332  Kali saja bpk @aniesbaswedan @sandiuno lihat, ...          1   \n",
       "17333  Kita harus dapat merangkul semua orang tanpa b...          1   \n",
       "17334  Ini jagoanku dibidang digital <Smiling Face Wi...          1   \n",
       "17335               #PesanBijak #OkeOce #GubernurGu3 ...          1   \n",
       "17336  Sandiaga: Bangun Rumah DP 0% Lebih Simpel Diba...          1   \n",
       "\n",
       "                                              text_lower  \\\n",
       "0                                            inkonsisten   \n",
       "1                                                  porno   \n",
       "2                                                teroris   \n",
       "3                                                  sesat   \n",
       "4                                                 tuntut   \n",
       "...                                                  ...   \n",
       "17332  kali saja bpk @aniesbaswedan @sandiuno lihat, ...   \n",
       "17333  kita harus dapat merangkul semua orang tanpa b...   \n",
       "17334  ini jagoanku dibidang digital <smiling face wi...   \n",
       "17335               #pesanbijak #okeoce #gubernurgu3 ...   \n",
       "17336  sandiaga: bangun rumah dp 0% lebih simpel diba...   \n",
       "\n",
       "                                              text_token  \\\n",
       "0                                        ['inkonsisten']   \n",
       "1                                              ['porno']   \n",
       "2                                            ['teroris']   \n",
       "3                                              ['sesat']   \n",
       "4                                             ['tuntut']   \n",
       "...                                                  ...   \n",
       "17332  ['kali', 'saja', 'bpk', '@', 'aniesbaswedan', ...   \n",
       "17333  ['kita', 'harus', 'dapat', 'merangkul', 'semua...   \n",
       "17334  ['ini', 'jagoanku', 'dibidang', 'digital', '<'...   \n",
       "17335  ['#', 'pesanbijak', '#', 'okeoce', '#', 'guber...   \n",
       "17336  ['sandiaga', ':', 'bangun', 'rumah', 'dp', '0'...   \n",
       "\n",
       "                                     text_without_number  \\\n",
       "0                                        ['inkonsisten']   \n",
       "1                                              ['porno']   \n",
       "2                                            ['teroris']   \n",
       "3                                              ['sesat']   \n",
       "4                                             ['tuntut']   \n",
       "...                                                  ...   \n",
       "17332  ['kali', 'saja', 'bpk', '@', 'aniesbaswedan', ...   \n",
       "17333  ['kita', 'harus', 'dapat', 'merangkul', 'semua...   \n",
       "17334  ['ini', 'jagoanku', 'dibidang', 'digital', '<'...   \n",
       "17335  ['#', 'pesanbijak', '#', 'okeoce', '#', 'guber...   \n",
       "17336  ['sandiaga', ':', 'bangun', 'rumah', 'dp', '%'...   \n",
       "\n",
       "                                     text_no_punctuation  \\\n",
       "0                                        ['inkonsisten']   \n",
       "1                                              ['porno']   \n",
       "2                                            ['teroris']   \n",
       "3                                              ['sesat']   \n",
       "4                                             ['tuntut']   \n",
       "...                                                  ...   \n",
       "17332  ['kali', 'saja', 'bpk', 'aniesbaswedan', 'sand...   \n",
       "17333  ['kita', 'harus', 'dapat', 'merangkul', 'semua...   \n",
       "17334  ['ini', 'jagoanku', 'dibidang', 'digital', 'sm...   \n",
       "17335     ['pesanbijak', 'okeoce', 'gubernurgu3', '...']   \n",
       "17336  ['sandiaga', 'bangun', 'rumah', 'dp', 'lebih',...   \n",
       "\n",
       "                                          text_exception  \\\n",
       "0                                        ['inkonsisten']   \n",
       "1                                              ['porno']   \n",
       "2                                            ['teroris']   \n",
       "3                                              ['sesat']   \n",
       "4                                             ['tuntut']   \n",
       "...                                                  ...   \n",
       "17332  ['kali', 'saja', 'bpk', 'aniesbaswedan', 'sand...   \n",
       "17333  ['kita', 'harus', 'dapat', 'merangkul', 'semua...   \n",
       "17334  ['ini', 'jagoanku', 'dibidang', 'digital', 'sm...   \n",
       "17335            ['pesanbijak', 'okeoce', 'gubernurgu3']   \n",
       "17336  ['sandiaga', 'bangun', 'rumah', 'dp', 'lebih',...   \n",
       "\n",
       "                                       text_no_stopwords  \\\n",
       "0                                        ['inkonsisten']   \n",
       "1                                              ['porno']   \n",
       "2                                            ['teroris']   \n",
       "3                                              ['sesat']   \n",
       "4                                             ['tuntut']   \n",
       "...                                                  ...   \n",
       "17332  ['kali', 'bapak', 'aniesbaswedan', 'sandiuno',...   \n",
       "17333  ['merangkul', 'orang', 'batas', 'usia', 'kelam...   \n",
       "17334  ['jagoanku', 'dibidang', 'digital', 'smiling',...   \n",
       "17335           ['pesanbijak', 'oke oce', 'gubernurgu3']   \n",
       "17336  ['sandiaga', 'bangun', 'rumah', 'uang muka', '...   \n",
       "\n",
       "                                      convert_slangwords  \\\n",
       "0                                        ['inkonsisten']   \n",
       "1                                              ['porno']   \n",
       "2                                            ['teroris']   \n",
       "3                                              ['sesat']   \n",
       "4                                             ['tuntut']   \n",
       "...                                                  ...   \n",
       "17332  ['kali', 'bapak', 'aniesbaswedan', 'sandiuno',...   \n",
       "17333  ['merangkul', 'orang', 'batas', 'usia', 'kelam...   \n",
       "17334  ['jagoanku', 'dibidang', 'digital', 'smiling',...   \n",
       "17335        ['pesanbijak', 'oke', 'oce', 'gubernurgu3']   \n",
       "17336  ['sandiaga', 'bangun', 'rumah', 'uang', 'muka'...   \n",
       "\n",
       "                                    convert_emojimeaning  \\\n",
       "0                                        ['inkonsisten']   \n",
       "1                                              ['porno']   \n",
       "2                                            ['teroris']   \n",
       "3                                              ['sesat']   \n",
       "4                                             ['tuntut']   \n",
       "...                                                  ...   \n",
       "17332  ['kali', 'bapak', 'aniesbaswedan', 'sandiuno',...   \n",
       "17333  ['merangkul', 'orang', 'batas', 'usia', 'kelam...   \n",
       "17334  ['jagoanku', 'dibidang', 'digital', 'smiling',...   \n",
       "17335        ['pesanbijak', 'oke', 'oce', 'gubernurgu3']   \n",
       "17336  ['sandiaga', 'bangun', 'rumah', 'uang', 'muka'...   \n",
       "\n",
       "                                      unpacking_sentence  \\\n",
       "0                                            inkonsisten   \n",
       "1                                                  porno   \n",
       "2                                                teroris   \n",
       "3                                                  sesat   \n",
       "4                                                 tuntut   \n",
       "...                                                  ...   \n",
       "17332  kali bapak aniesbaswedan sandiuno lihat rspun ...   \n",
       "17333  merangkul orang batas usia kelamin oke oce oke...   \n",
       "17334  jagoanku dibidang digital smiling face dengan ...   \n",
       "17335                     pesanbijak oke oce gubernurgu3   \n",
       "17336  sandiaga bangun rumah uang muka simpel dibandi...   \n",
       "\n",
       "                                                 stemmed  \\\n",
       "0                                            inkonsisten   \n",
       "1                                                  porno   \n",
       "2                                                teroris   \n",
       "3                                                  sesat   \n",
       "4                                                 tuntut   \n",
       "...                                                  ...   \n",
       "17332  kali bapak aniesbaswedan sandiuno lihat rspun ...   \n",
       "17333  rangkul orang batas usia kelamin oke oce oke h...   \n",
       "17334  jago bidang digital smiling face dengan sungla...   \n",
       "17335                     pesanbijak oke oce gubernurgu3   \n",
       "17336  sandiaga bangun rumah uang muka simpel banding...   \n",
       "\n",
       "                                      text_token_stemmed  \\\n",
       "0                                        ['inkonsisten']   \n",
       "1                                              ['porno']   \n",
       "2                                            ['teroris']   \n",
       "3                                              ['sesat']   \n",
       "4                                             ['tuntut']   \n",
       "...                                                  ...   \n",
       "17332  ['kali', 'bapak', 'aniesbaswedan', 'sandiuno',...   \n",
       "17333  ['rangkul', 'orang', 'batas', 'usia', 'kelamin...   \n",
       "17334  ['jago', 'bidang', 'digital', 'smiling', 'face...   \n",
       "17335        ['pesanbijak', 'oke', 'oce', 'gubernurgu3']   \n",
       "17336  ['sandiaga', 'bangun', 'rumah', 'uang', 'muka'...   \n",
       "\n",
       "                               text_no_stopwords_stemmed  \\\n",
       "0                                        ['inkonsisten']   \n",
       "1                                              ['porno']   \n",
       "2                                            ['teroris']   \n",
       "3                                              ['sesat']   \n",
       "4                                             ['tuntut']   \n",
       "...                                                  ...   \n",
       "17332  ['kali', 'aniesbaswedan', 'sandiuno', 'lihat',...   \n",
       "17333  ['rangkul', 'orang', 'batas', 'usia', 'kelamin...   \n",
       "17334  ['jago', 'bidang', 'digital', 'smiling', 'face...   \n",
       "17335        ['pesanbijak', 'oke', 'oce', 'gubernurgu3']   \n",
       "17336  ['sandiaga', 'bangun', 'rumah', 'uang', 'muka'...   \n",
       "\n",
       "                                                   final  length_words  \n",
       "0                                            inkonsisten             1  \n",
       "1                                                  porno             1  \n",
       "2                                                teroris             1  \n",
       "3                                                  sesat             1  \n",
       "4                                                 tuntut             1  \n",
       "...                                                  ...           ...  \n",
       "17332  kali aniesbaswedan sandiuno lihat rspun swafot...            12  \n",
       "17333  rangkul orang batas usia kelamin oke oce oke h...            16  \n",
       "17334  jago bidang digital smiling face sunglasses ok...            11  \n",
       "17335                     pesanbijak oke oce gubernurgu3             4  \n",
       "17336  sandiaga bangun rumah uang muka simpel banding...            14  \n",
       "\n",
       "[17337 rows x 16 columns]"
      ]
     },
     "execution_count": 4,
     "metadata": {},
     "output_type": "execute_result"
    }
   ],
   "source": [
    "df = pd.read_csv('ml_sentiment_analysis.csv')\n",
    "df = df.drop(columns='Unnamed: 0')\n",
    "df"
   ]
  },
  {
   "cell_type": "markdown",
   "metadata": {},
   "source": [
    "### **In this Notebook, I focused on the machine can predict less at False Negative (Actual Negative Sentiment, but machine detect as a Positive Sentiment) to handling a bad sentiment shown as positive sentiment, so I focused on recall at evaluation matrix.**"
   ]
  },
  {
   "cell_type": "code",
   "execution_count": 5,
   "metadata": {},
   "outputs": [],
   "source": [
    "df['sentiment'] = df['sentiment'].replace({1:0, -1:1})\n",
    "# 1 for negative sentiment\n",
    "# 0 for positive sentiment"
   ]
  },
  {
   "cell_type": "code",
   "execution_count": 6,
   "metadata": {},
   "outputs": [
    {
     "data": {
      "text/plain": [
       "1    9897\n",
       "0    7440\n",
       "Name: sentiment, dtype: int64"
      ]
     },
     "execution_count": 6,
     "metadata": {},
     "output_type": "execute_result"
    }
   ],
   "source": [
    "df['sentiment'].value_counts()"
   ]
  },
  {
   "cell_type": "code",
   "execution_count": 7,
   "metadata": {},
   "outputs": [],
   "source": [
    "X = df['final']\n",
    "y = df['sentiment']"
   ]
  },
  {
   "cell_type": "code",
   "execution_count": 8,
   "metadata": {},
   "outputs": [],
   "source": [
    "X_train, X_test, y_train, y_test = train_test_split(X, y, stratify = y, test_size = 0.2, random_state = 42)"
   ]
  },
  {
   "cell_type": "code",
   "execution_count": 9,
   "metadata": {},
   "outputs": [],
   "source": [
    "# Evaluation Matrix Function\n",
    "def Eva_Matrix1(Model, X_train, y_train, X_test, y_test, Name):\n",
    "    y_pred_train = Model.predict(X_train)\n",
    "    acc_train = accuracy_score(y_train, y_pred_train)\n",
    "    rec_train = recall_score(y_train, y_pred_train)\n",
    "    prec_train = precision_score(y_train, y_pred_train)\n",
    "    f1_train = f1_score(y_train, y_pred_train)\n",
    "    y_pred_test = Model.predict(X_test)\n",
    "    acc_test = accuracy_score(y_test, y_pred_test)\n",
    "    rec_test = recall_score(y_test, y_pred_test)\n",
    "    prec_test = precision_score(y_test, y_pred_test)\n",
    "    f1_test = f1_score(y_train, y_pred_train)\n",
    "    data = {\n",
    "        f\"Training {Name}\" : [acc_train, rec_train, prec_train, f1_train],\n",
    "        f\"Test {Name}\" : [acc_test, rec_test, prec_test, f1_test]\n",
    "    }\n",
    "    df = pd.DataFrame(data=data, index=['Accuracy', 'Recall', 'Precision', 'F1'])\n",
    "    return df"
   ]
  },
  {
   "cell_type": "markdown",
   "metadata": {},
   "source": [
    "## Training Model (Pipeline)"
   ]
  },
  {
   "cell_type": "markdown",
   "metadata": {},
   "source": [
    "### ---------------------------------------------------------------------------------------------------------"
   ]
  },
  {
   "cell_type": "markdown",
   "metadata": {},
   "source": [
    "## Base Model (CountVectorizer & TfidfVectorizer)"
   ]
  },
  {
   "cell_type": "markdown",
   "metadata": {},
   "source": [
    "### Logistic Regression (CountVectorizer)"
   ]
  },
  {
   "cell_type": "code",
   "execution_count": 10,
   "metadata": {},
   "outputs": [],
   "source": [
    "pipe_LR_CV = Pipeline([\n",
    "    (\"prep\", CountVectorizer(ngram_range=(1,2))),\n",
    "    (\"algo\", LogisticRegression())\n",
    "])"
   ]
  },
  {
   "cell_type": "code",
   "execution_count": 11,
   "metadata": {},
   "outputs": [
    {
     "data": {
      "text/plain": [
       "Pipeline(steps=[('prep', CountVectorizer(ngram_range=(1, 2))),\n",
       "                ('algo', LogisticRegression())])"
      ]
     },
     "execution_count": 11,
     "metadata": {},
     "output_type": "execute_result"
    }
   ],
   "source": [
    "pipe_LR_CV.fit(X_train, y_train)"
   ]
  },
  {
   "cell_type": "code",
   "execution_count": 12,
   "metadata": {},
   "outputs": [],
   "source": [
    "y_base_LR_CV = pipe_LR_CV.predict(X_test)"
   ]
  },
  {
   "cell_type": "code",
   "execution_count": 13,
   "metadata": {},
   "outputs": [
    {
     "data": {
      "text/html": [
       "<div>\n",
       "<style scoped>\n",
       "    .dataframe tbody tr th:only-of-type {\n",
       "        vertical-align: middle;\n",
       "    }\n",
       "\n",
       "    .dataframe tbody tr th {\n",
       "        vertical-align: top;\n",
       "    }\n",
       "\n",
       "    .dataframe thead th {\n",
       "        text-align: right;\n",
       "    }\n",
       "</style>\n",
       "<table border=\"1\" class=\"dataframe\">\n",
       "  <thead>\n",
       "    <tr style=\"text-align: right;\">\n",
       "      <th></th>\n",
       "      <th>Training Pipeline LR CV</th>\n",
       "      <th>Test Pipeline LR CV</th>\n",
       "    </tr>\n",
       "  </thead>\n",
       "  <tbody>\n",
       "    <tr>\n",
       "      <th>Accuracy</th>\n",
       "      <td>0.960704</td>\n",
       "      <td>0.832757</td>\n",
       "    </tr>\n",
       "    <tr>\n",
       "      <th>Recall</th>\n",
       "      <td>0.996842</td>\n",
       "      <td>0.906566</td>\n",
       "    </tr>\n",
       "    <tr>\n",
       "      <th>Precision</th>\n",
       "      <td>0.938184</td>\n",
       "      <td>0.819635</td>\n",
       "    </tr>\n",
       "    <tr>\n",
       "      <th>F1</th>\n",
       "      <td>0.966624</td>\n",
       "      <td>0.966624</td>\n",
       "    </tr>\n",
       "  </tbody>\n",
       "</table>\n",
       "</div>"
      ],
      "text/plain": [
       "           Training Pipeline LR CV  Test Pipeline LR CV\n",
       "Accuracy                  0.960704             0.832757\n",
       "Recall                    0.996842             0.906566\n",
       "Precision                 0.938184             0.819635\n",
       "F1                        0.966624             0.966624"
      ]
     },
     "execution_count": 13,
     "metadata": {},
     "output_type": "execute_result"
    }
   ],
   "source": [
    "df_base_LR_CV = Eva_Matrix1(pipe_LR_CV, X_train, y_train, X_test, y_test, \"Pipeline LR CV\")\n",
    "df_base_LR_CV"
   ]
  },
  {
   "cell_type": "code",
   "execution_count": 14,
   "metadata": {},
   "outputs": [
    {
     "name": "stdout",
     "output_type": "stream",
     "text": [
      "              precision    recall  f1-score   support\n",
      "\n",
      "           0       0.86      0.73      0.79      1488\n",
      "           1       0.82      0.91      0.86      1980\n",
      "\n",
      "    accuracy                           0.83      3468\n",
      "   macro avg       0.84      0.82      0.83      3468\n",
      "weighted avg       0.83      0.83      0.83      3468\n",
      "\n"
     ]
    },
    {
     "data": {
      "image/png": "[encoded data removed]",
      "text/plain": [
       "<Figure size 432x288 with 2 Axes>"
      ]
     },
     "metadata": {},
     "output_type": "display_data"
    }
   ],
   "source": [
    "print(classification_report(y_test, y_base_LR_CV))\n",
    "cm_LR_CV_test = confusion_matrix(y_test, y_base_LR_CV, labels = [1,0])\n",
    "df_LR_CV_test = pd.DataFrame(data=cm_LR_CV_test, columns=['Pred 1', 'Pred 0'], index=['Akt 1', 'Akt 0'])\n",
    "sns.heatmap(df_LR_CV_test, annot=True)\n",
    "plt.show()"
   ]
  },
  {
   "cell_type": "markdown",
   "metadata": {},
   "source": [
    "### Logistic Regression (TfidfVectorizer)"
   ]
  },
  {
   "cell_type": "code",
   "execution_count": 15,
   "metadata": {},
   "outputs": [],
   "source": [
    "pipe_LR_TV = Pipeline([\n",
    "    (\"prep\", TfidfVectorizer(ngram_range=(1,2))),\n",
    "    (\"algo\", LogisticRegression())\n",
    "])"
   ]
  },
  {
   "cell_type": "code",
   "execution_count": 16,
   "metadata": {},
   "outputs": [
    {
     "data": {
      "text/plain": [
       "Pipeline(steps=[('prep', TfidfVectorizer(ngram_range=(1, 2))),\n",
       "                ('algo', LogisticRegression())])"
      ]
     },
     "execution_count": 16,
     "metadata": {},
     "output_type": "execute_result"
    }
   ],
   "source": [
    "pipe_LR_TV.fit(X_train, y_train)"
   ]
  },
  {
   "cell_type": "code",
   "execution_count": 17,
   "metadata": {},
   "outputs": [],
   "source": [
    "y_base_LR_TV = pipe_LR_TV.predict(X_test)"
   ]
  },
  {
   "cell_type": "code",
   "execution_count": 18,
   "metadata": {},
   "outputs": [
    {
     "data": {
      "text/html": [
       "<div>\n",
       "<style scoped>\n",
       "    .dataframe tbody tr th:only-of-type {\n",
       "        vertical-align: middle;\n",
       "    }\n",
       "\n",
       "    .dataframe tbody tr th {\n",
       "        vertical-align: top;\n",
       "    }\n",
       "\n",
       "    .dataframe thead th {\n",
       "        text-align: right;\n",
       "    }\n",
       "</style>\n",
       "<table border=\"1\" class=\"dataframe\">\n",
       "  <thead>\n",
       "    <tr style=\"text-align: right;\">\n",
       "      <th></th>\n",
       "      <th>Training Pipeline LR TV</th>\n",
       "      <th>Test Pipeline LR TV</th>\n",
       "    </tr>\n",
       "  </thead>\n",
       "  <tbody>\n",
       "    <tr>\n",
       "      <th>Accuracy</th>\n",
       "      <td>0.960704</td>\n",
       "      <td>0.832757</td>\n",
       "    </tr>\n",
       "    <tr>\n",
       "      <th>Recall</th>\n",
       "      <td>0.996842</td>\n",
       "      <td>0.906566</td>\n",
       "    </tr>\n",
       "    <tr>\n",
       "      <th>Precision</th>\n",
       "      <td>0.938184</td>\n",
       "      <td>0.819635</td>\n",
       "    </tr>\n",
       "    <tr>\n",
       "      <th>F1</th>\n",
       "      <td>0.966624</td>\n",
       "      <td>0.966624</td>\n",
       "    </tr>\n",
       "  </tbody>\n",
       "</table>\n",
       "</div>"
      ],
      "text/plain": [
       "           Training Pipeline LR TV  Test Pipeline LR TV\n",
       "Accuracy                  0.960704             0.832757\n",
       "Recall                    0.996842             0.906566\n",
       "Precision                 0.938184             0.819635\n",
       "F1                        0.966624             0.966624"
      ]
     },
     "execution_count": 18,
     "metadata": {},
     "output_type": "execute_result"
    }
   ],
   "source": [
    "df_base_LR_TV = Eva_Matrix1(pipe_LR_CV, X_train, y_train, X_test, y_test, \"Pipeline LR TV\")\n",
    "df_base_LR_TV"
   ]
  },
  {
   "cell_type": "code",
   "execution_count": 19,
   "metadata": {},
   "outputs": [
    {
     "name": "stdout",
     "output_type": "stream",
     "text": [
      "              precision    recall  f1-score   support\n",
      "\n",
      "           0       0.85      0.73      0.79      1488\n",
      "           1       0.82      0.90      0.86      1980\n",
      "\n",
      "    accuracy                           0.83      3468\n",
      "   macro avg       0.84      0.82      0.82      3468\n",
      "weighted avg       0.83      0.83      0.83      3468\n",
      "\n"
     ]
    },
    {
     "data": {
      "image/png": "[encoded data removed]",
      "text/plain": [
       "<Figure size 432x288 with 2 Axes>"
      ]
     },
     "metadata": {},
     "output_type": "display_data"
    }
   ],
   "source": [
    "print(classification_report(y_test, y_base_LR_TV))\n",
    "cm_LR_TV_test = confusion_matrix(y_test, y_base_LR_TV, labels = [1,0])\n",
    "df_LR_TV_test = pd.DataFrame(data=cm_LR_TV_test, columns=['Pred -1', 'Pred 1'], index=['Akt -1', 'Akt 1'])\n",
    "sns.heatmap(df_LR_TV_test, annot=True)\n",
    "plt.show()"
   ]
  },
  {
   "cell_type": "markdown",
   "metadata": {},
   "source": [
    "### ---------------------------------------------------------------------------------------------------------"
   ]
  },
  {
   "cell_type": "markdown",
   "metadata": {},
   "source": [
    "### KNN (CountVectorizer)"
   ]
  },
  {
   "cell_type": "code",
   "execution_count": 20,
   "metadata": {},
   "outputs": [],
   "source": [
    "pipe_KNN_CV = Pipeline([\n",
    "    (\"prep\", CountVectorizer(ngram_range=(1,2))),\n",
    "    (\"algo\", KNeighborsClassifier())\n",
    "])"
   ]
  },
  {
   "cell_type": "code",
   "execution_count": 21,
   "metadata": {},
   "outputs": [
    {
     "data": {
      "text/plain": [
       "Pipeline(steps=[('prep', CountVectorizer(ngram_range=(1, 2))),\n",
       "                ('algo', KNeighborsClassifier())])"
      ]
     },
     "execution_count": 21,
     "metadata": {},
     "output_type": "execute_result"
    }
   ],
   "source": [
    "pipe_KNN_CV.fit(X_train, y_train)"
   ]
  },
  {
   "cell_type": "code",
   "execution_count": 22,
   "metadata": {},
   "outputs": [],
   "source": [
    "y_base_KNN_CV = pipe_KNN_CV.predict(X_test)"
   ]
  },
  {
   "cell_type": "code",
   "execution_count": 23,
   "metadata": {},
   "outputs": [
    {
     "data": {
      "text/html": [
       "<div>\n",
       "<style scoped>\n",
       "    .dataframe tbody tr th:only-of-type {\n",
       "        vertical-align: middle;\n",
       "    }\n",
       "\n",
       "    .dataframe tbody tr th {\n",
       "        vertical-align: top;\n",
       "    }\n",
       "\n",
       "    .dataframe thead th {\n",
       "        text-align: right;\n",
       "    }\n",
       "</style>\n",
       "<table border=\"1\" class=\"dataframe\">\n",
       "  <thead>\n",
       "    <tr style=\"text-align: right;\">\n",
       "      <th></th>\n",
       "      <th>Training Pipeline KNN CV</th>\n",
       "      <th>Test Pipeline KNN CV</th>\n",
       "    </tr>\n",
       "  </thead>\n",
       "  <tbody>\n",
       "    <tr>\n",
       "      <th>Accuracy</th>\n",
       "      <td>0.814190</td>\n",
       "      <td>0.693772</td>\n",
       "    </tr>\n",
       "    <tr>\n",
       "      <th>Recall</th>\n",
       "      <td>0.887331</td>\n",
       "      <td>0.802020</td>\n",
       "    </tr>\n",
       "    <tr>\n",
       "      <th>Precision</th>\n",
       "      <td>0.806544</td>\n",
       "      <td>0.703277</td>\n",
       "    </tr>\n",
       "    <tr>\n",
       "      <th>F1</th>\n",
       "      <td>0.845011</td>\n",
       "      <td>0.845011</td>\n",
       "    </tr>\n",
       "  </tbody>\n",
       "</table>\n",
       "</div>"
      ],
      "text/plain": [
       "           Training Pipeline KNN CV  Test Pipeline KNN CV\n",
       "Accuracy                   0.814190              0.693772\n",
       "Recall                     0.887331              0.802020\n",
       "Precision                  0.806544              0.703277\n",
       "F1                         0.845011              0.845011"
      ]
     },
     "execution_count": 23,
     "metadata": {},
     "output_type": "execute_result"
    }
   ],
   "source": [
    "df_base_KNN_CV = Eva_Matrix1(pipe_KNN_CV, X_train, y_train, X_test, y_test, \"Pipeline KNN CV\")\n",
    "df_base_KNN_CV"
   ]
  },
  {
   "cell_type": "code",
   "execution_count": 24,
   "metadata": {},
   "outputs": [
    {
     "name": "stdout",
     "output_type": "stream",
     "text": [
      "              precision    recall  f1-score   support\n",
      "\n",
      "           0       0.68      0.55      0.61      1488\n",
      "           1       0.70      0.80      0.75      1980\n",
      "\n",
      "    accuracy                           0.69      3468\n",
      "   macro avg       0.69      0.68      0.68      3468\n",
      "weighted avg       0.69      0.69      0.69      3468\n",
      "\n"
     ]
    },
    {
     "data": {
      "image/png": "[encoded data removed]",
      "text/plain": [
       "<Figure size 432x288 with 2 Axes>"
      ]
     },
     "metadata": {},
     "output_type": "display_data"
    }
   ],
   "source": [
    "print(classification_report(y_test, y_base_KNN_CV))\n",
    "cm_KNN_CV_test = confusion_matrix(y_test, y_base_KNN_CV, labels = [1,0])\n",
    "df_KNN_CV_test = pd.DataFrame(data=cm_KNN_CV_test, columns=['Pred 1', 'Pred 0'], index=['Akt 1', 'Akt 0'])\n",
    "sns.heatmap(df_KNN_CV_test, annot=True)\n",
    "plt.show()"
   ]
  },
  {
   "cell_type": "markdown",
   "metadata": {},
   "source": [
    "### KNN (TfidfVectorizer)"
   ]
  },
  {
   "cell_type": "code",
   "execution_count": 25,
   "metadata": {},
   "outputs": [],
   "source": [
    "pipe_KNN_TV = Pipeline([\n",
    "    (\"prep\", TfidfVectorizer(ngram_range=(1,2))),\n",
    "    (\"algo\", KNeighborsClassifier())\n",
    "])"
   ]
  },
  {
   "cell_type": "code",
   "execution_count": 26,
   "metadata": {},
   "outputs": [
    {
     "data": {
      "text/plain": [
       "Pipeline(steps=[('prep', TfidfVectorizer(ngram_range=(1, 2))),\n",
       "                ('algo', KNeighborsClassifier())])"
      ]
     },
     "execution_count": 26,
     "metadata": {},
     "output_type": "execute_result"
    }
   ],
   "source": [
    "pipe_KNN_TV.fit(X_train, y_train)"
   ]
  },
  {
   "cell_type": "code",
   "execution_count": 27,
   "metadata": {},
   "outputs": [],
   "source": [
    "y_base_KNN_TV = pipe_KNN_TV.predict(X_test)"
   ]
  },
  {
   "cell_type": "code",
   "execution_count": 28,
   "metadata": {},
   "outputs": [
    {
     "data": {
      "text/html": [
       "<div>\n",
       "<style scoped>\n",
       "    .dataframe tbody tr th:only-of-type {\n",
       "        vertical-align: middle;\n",
       "    }\n",
       "\n",
       "    .dataframe tbody tr th {\n",
       "        vertical-align: top;\n",
       "    }\n",
       "\n",
       "    .dataframe thead th {\n",
       "        text-align: right;\n",
       "    }\n",
       "</style>\n",
       "<table border=\"1\" class=\"dataframe\">\n",
       "  <thead>\n",
       "    <tr style=\"text-align: right;\">\n",
       "      <th></th>\n",
       "      <th>Training Pipeline KNN TV</th>\n",
       "      <th>Test Pipeline KNN TV</th>\n",
       "    </tr>\n",
       "  </thead>\n",
       "  <tbody>\n",
       "    <tr>\n",
       "      <th>Accuracy</th>\n",
       "      <td>0.814190</td>\n",
       "      <td>0.693772</td>\n",
       "    </tr>\n",
       "    <tr>\n",
       "      <th>Recall</th>\n",
       "      <td>0.887331</td>\n",
       "      <td>0.802020</td>\n",
       "    </tr>\n",
       "    <tr>\n",
       "      <th>Precision</th>\n",
       "      <td>0.806544</td>\n",
       "      <td>0.703277</td>\n",
       "    </tr>\n",
       "    <tr>\n",
       "      <th>F1</th>\n",
       "      <td>0.845011</td>\n",
       "      <td>0.845011</td>\n",
       "    </tr>\n",
       "  </tbody>\n",
       "</table>\n",
       "</div>"
      ],
      "text/plain": [
       "           Training Pipeline KNN TV  Test Pipeline KNN TV\n",
       "Accuracy                   0.814190              0.693772\n",
       "Recall                     0.887331              0.802020\n",
       "Precision                  0.806544              0.703277\n",
       "F1                         0.845011              0.845011"
      ]
     },
     "execution_count": 28,
     "metadata": {},
     "output_type": "execute_result"
    }
   ],
   "source": [
    "df_base_KNN_TV = Eva_Matrix1(pipe_KNN_CV, X_train, y_train, X_test, y_test, \"Pipeline KNN TV\")\n",
    "df_base_KNN_TV"
   ]
  },
  {
   "cell_type": "code",
   "execution_count": 29,
   "metadata": {},
   "outputs": [
    {
     "name": "stdout",
     "output_type": "stream",
     "text": [
      "              precision    recall  f1-score   support\n",
      "\n",
      "           0       0.69      0.77      0.73      1488\n",
      "           1       0.81      0.73      0.77      1980\n",
      "\n",
      "    accuracy                           0.75      3468\n",
      "   macro avg       0.75      0.75      0.75      3468\n",
      "weighted avg       0.76      0.75      0.75      3468\n",
      "\n"
     ]
    },
    {
     "data": {
      "image/png": "[encoded data removed]",
      "text/plain": [
       "<Figure size 432x288 with 2 Axes>"
      ]
     },
     "metadata": {},
     "output_type": "display_data"
    }
   ],
   "source": [
    "print(classification_report(y_test, y_base_KNN_TV))\n",
    "cm_KNN_TV_test = confusion_matrix(y_test, y_base_KNN_TV, labels = [1,0])\n",
    "df_KNN_TV_test = pd.DataFrame(data=cm_KNN_TV_test, columns=['Pred 1', 'Pred 0'], index=['Akt 1', 'Akt 0'])\n",
    "sns.heatmap(df_KNN_TV_test, annot=True)\n",
    "plt.show()"
   ]
  },
  {
   "cell_type": "markdown",
   "metadata": {},
   "source": [
    "### ---------------------------------------------------------------------------------------------------------"
   ]
  },
  {
   "cell_type": "markdown",
   "metadata": {},
   "source": [
    "### DecisionTreeClassifier (CountVectorizer)"
   ]
  },
  {
   "cell_type": "code",
   "execution_count": 30,
   "metadata": {},
   "outputs": [],
   "source": [
    "pipe_DT_CV = Pipeline([\n",
    "    (\"prep\", CountVectorizer(ngram_range=(1,2))),\n",
    "    (\"algo\", DecisionTreeClassifier())\n",
    "])"
   ]
  },
  {
   "cell_type": "code",
   "execution_count": 31,
   "metadata": {},
   "outputs": [
    {
     "data": {
      "text/plain": [
       "Pipeline(steps=[('prep', CountVectorizer(ngram_range=(1, 2))),\n",
       "                ('algo', DecisionTreeClassifier())])"
      ]
     },
     "execution_count": 31,
     "metadata": {},
     "output_type": "execute_result"
    }
   ],
   "source": [
    "pipe_DT_CV.fit(X_train, y_train)"
   ]
  },
  {
   "cell_type": "code",
   "execution_count": 32,
   "metadata": {},
   "outputs": [],
   "source": [
    "y_base_DT_CV = pipe_DT_CV.predict(X_test)"
   ]
  },
  {
   "cell_type": "code",
   "execution_count": 33,
   "metadata": {},
   "outputs": [
    {
     "data": {
      "text/html": [
       "<div>\n",
       "<style scoped>\n",
       "    .dataframe tbody tr th:only-of-type {\n",
       "        vertical-align: middle;\n",
       "    }\n",
       "\n",
       "    .dataframe tbody tr th {\n",
       "        vertical-align: top;\n",
       "    }\n",
       "\n",
       "    .dataframe thead th {\n",
       "        text-align: right;\n",
       "    }\n",
       "</style>\n",
       "<table border=\"1\" class=\"dataframe\">\n",
       "  <thead>\n",
       "    <tr style=\"text-align: right;\">\n",
       "      <th></th>\n",
       "      <th>Training Pipeline DT CV</th>\n",
       "      <th>Test Pipeline DT CV</th>\n",
       "    </tr>\n",
       "  </thead>\n",
       "  <tbody>\n",
       "    <tr>\n",
       "      <th>Accuracy</th>\n",
       "      <td>0.998918</td>\n",
       "      <td>0.711073</td>\n",
       "    </tr>\n",
       "    <tr>\n",
       "      <th>Recall</th>\n",
       "      <td>0.998484</td>\n",
       "      <td>0.652020</td>\n",
       "    </tr>\n",
       "    <tr>\n",
       "      <th>Precision</th>\n",
       "      <td>0.999621</td>\n",
       "      <td>0.804863</td>\n",
       "    </tr>\n",
       "    <tr>\n",
       "      <th>F1</th>\n",
       "      <td>0.999052</td>\n",
       "      <td>0.999052</td>\n",
       "    </tr>\n",
       "  </tbody>\n",
       "</table>\n",
       "</div>"
      ],
      "text/plain": [
       "           Training Pipeline DT CV  Test Pipeline DT CV\n",
       "Accuracy                  0.998918             0.711073\n",
       "Recall                    0.998484             0.652020\n",
       "Precision                 0.999621             0.804863\n",
       "F1                        0.999052             0.999052"
      ]
     },
     "execution_count": 33,
     "metadata": {},
     "output_type": "execute_result"
    }
   ],
   "source": [
    "df_base_DT_CV = Eva_Matrix1(pipe_DT_CV, X_train, y_train, X_test, y_test, \"Pipeline DT CV\")\n",
    "df_base_DT_CV"
   ]
  },
  {
   "cell_type": "code",
   "execution_count": 34,
   "metadata": {},
   "outputs": [
    {
     "name": "stdout",
     "output_type": "stream",
     "text": [
      "              precision    recall  f1-score   support\n",
      "\n",
      "           0       0.63      0.79      0.70      1488\n",
      "           1       0.80      0.65      0.72      1980\n",
      "\n",
      "    accuracy                           0.71      3468\n",
      "   macro avg       0.72      0.72      0.71      3468\n",
      "weighted avg       0.73      0.71      0.71      3468\n",
      "\n"
     ]
    },
    {
     "data": {
      "image/png": "[encoded data removed]",
      "text/plain": [
       "<Figure size 432x288 with 2 Axes>"
      ]
     },
     "metadata": {},
     "output_type": "display_data"
    }
   ],
   "source": [
    "print(classification_report(y_test, y_base_DT_CV))\n",
    "cm_DT_CV_test = confusion_matrix(y_test, y_base_DT_CV, labels = [1,0])\n",
    "df_DT_CV_test = pd.DataFrame(data=cm_DT_CV_test, columns=['Pred 1', 'Pred 0'], index=['Akt 1', 'Akt 0'])\n",
    "sns.heatmap(df_DT_CV_test, annot=True)\n",
    "plt.show()"
   ]
  },
  {
   "cell_type": "markdown",
   "metadata": {},
   "source": [
    "### DecisionTreeClassifier (TfidfVectorizer)"
   ]
  },
  {
   "cell_type": "code",
   "execution_count": 35,
   "metadata": {},
   "outputs": [],
   "source": [
    "pipe_DT_TV = Pipeline([\n",
    "    (\"prep\", TfidfVectorizer(ngram_range=(1,2))),\n",
    "    (\"algo\", DecisionTreeClassifier())\n",
    "])"
   ]
  },
  {
   "cell_type": "code",
   "execution_count": 36,
   "metadata": {},
   "outputs": [
    {
     "data": {
      "text/plain": [
       "Pipeline(steps=[('prep', TfidfVectorizer(ngram_range=(1, 2))),\n",
       "                ('algo', DecisionTreeClassifier())])"
      ]
     },
     "execution_count": 36,
     "metadata": {},
     "output_type": "execute_result"
    }
   ],
   "source": [
    "pipe_DT_TV.fit(X_train, y_train)"
   ]
  },
  {
   "cell_type": "code",
   "execution_count": 37,
   "metadata": {},
   "outputs": [],
   "source": [
    "y_base_DT_TV = pipe_DT_TV.predict(X_test)"
   ]
  },
  {
   "cell_type": "code",
   "execution_count": 38,
   "metadata": {},
   "outputs": [
    {
     "data": {
      "text/html": [
       "<div>\n",
       "<style scoped>\n",
       "    .dataframe tbody tr th:only-of-type {\n",
       "        vertical-align: middle;\n",
       "    }\n",
       "\n",
       "    .dataframe tbody tr th {\n",
       "        vertical-align: top;\n",
       "    }\n",
       "\n",
       "    .dataframe thead th {\n",
       "        text-align: right;\n",
       "    }\n",
       "</style>\n",
       "<table border=\"1\" class=\"dataframe\">\n",
       "  <thead>\n",
       "    <tr style=\"text-align: right;\">\n",
       "      <th></th>\n",
       "      <th>Training Pipeline DT TV</th>\n",
       "      <th>Test Pipeline DT TV</th>\n",
       "    </tr>\n",
       "  </thead>\n",
       "  <tbody>\n",
       "    <tr>\n",
       "      <th>Accuracy</th>\n",
       "      <td>0.998918</td>\n",
       "      <td>0.711073</td>\n",
       "    </tr>\n",
       "    <tr>\n",
       "      <th>Recall</th>\n",
       "      <td>0.998484</td>\n",
       "      <td>0.652020</td>\n",
       "    </tr>\n",
       "    <tr>\n",
       "      <th>Precision</th>\n",
       "      <td>0.999621</td>\n",
       "      <td>0.804863</td>\n",
       "    </tr>\n",
       "    <tr>\n",
       "      <th>F1</th>\n",
       "      <td>0.999052</td>\n",
       "      <td>0.999052</td>\n",
       "    </tr>\n",
       "  </tbody>\n",
       "</table>\n",
       "</div>"
      ],
      "text/plain": [
       "           Training Pipeline DT TV  Test Pipeline DT TV\n",
       "Accuracy                  0.998918             0.711073\n",
       "Recall                    0.998484             0.652020\n",
       "Precision                 0.999621             0.804863\n",
       "F1                        0.999052             0.999052"
      ]
     },
     "execution_count": 38,
     "metadata": {},
     "output_type": "execute_result"
    }
   ],
   "source": [
    "df_base_DT_TV = Eva_Matrix1(pipe_DT_CV, X_train, y_train, X_test, y_test, \"Pipeline DT TV\")\n",
    "df_base_DT_TV"
   ]
  },
  {
   "cell_type": "code",
   "execution_count": 39,
   "metadata": {},
   "outputs": [
    {
     "name": "stdout",
     "output_type": "stream",
     "text": [
      "              precision    recall  f1-score   support\n",
      "\n",
      "           0       0.63      0.78      0.70      1488\n",
      "           1       0.80      0.65      0.72      1980\n",
      "\n",
      "    accuracy                           0.71      3468\n",
      "   macro avg       0.72      0.72      0.71      3468\n",
      "weighted avg       0.73      0.71      0.71      3468\n",
      "\n"
     ]
    },
    {
     "data": {
      "image/png": "[encoded data removed]",
      "text/plain": [
       "<Figure size 432x288 with 2 Axes>"
      ]
     },
     "metadata": {},
     "output_type": "display_data"
    }
   ],
   "source": [
    "print(classification_report(y_test, y_base_DT_TV))\n",
    "cm_DT_TV_test = confusion_matrix(y_test, y_base_DT_TV, labels = [1,0])\n",
    "df_DT_TV_test = pd.DataFrame(data=cm_DT_TV_test, columns=['Pred 1', 'Pred 0'], index=['Akt 1', 'Akt 0'])\n",
    "sns.heatmap(df_DT_TV_test, annot=True)\n",
    "plt.show()"
   ]
  },
  {
   "cell_type": "markdown",
   "metadata": {},
   "source": [
    "### ---------------------------------------------------------------------------------------------------------"
   ]
  },
  {
   "cell_type": "markdown",
   "metadata": {},
   "source": [
    "### RandomForestClassifier (CountVectorizer)"
   ]
  },
  {
   "cell_type": "code",
   "execution_count": 40,
   "metadata": {},
   "outputs": [],
   "source": [
    "pipe_RF_CV = Pipeline([\n",
    "    (\"prep\", CountVectorizer(ngram_range=(1,2))),\n",
    "    (\"algo\", RandomForestClassifier())\n",
    "])"
   ]
  },
  {
   "cell_type": "code",
   "execution_count": 41,
   "metadata": {},
   "outputs": [
    {
     "data": {
      "text/plain": [
       "Pipeline(steps=[('prep', CountVectorizer(ngram_range=(1, 2))),\n",
       "                ('algo', RandomForestClassifier())])"
      ]
     },
     "execution_count": 41,
     "metadata": {},
     "output_type": "execute_result"
    }
   ],
   "source": [
    "pipe_RF_CV.fit(X_train, y_train)"
   ]
  },
  {
   "cell_type": "code",
   "execution_count": 42,
   "metadata": {},
   "outputs": [],
   "source": [
    "y_base_RF_CV = pipe_RF_CV.predict(X_test)"
   ]
  },
  {
   "cell_type": "code",
   "execution_count": 43,
   "metadata": {},
   "outputs": [
    {
     "data": {
      "text/html": [
       "<div>\n",
       "<style scoped>\n",
       "    .dataframe tbody tr th:only-of-type {\n",
       "        vertical-align: middle;\n",
       "    }\n",
       "\n",
       "    .dataframe tbody tr th {\n",
       "        vertical-align: top;\n",
       "    }\n",
       "\n",
       "    .dataframe thead th {\n",
       "        text-align: right;\n",
       "    }\n",
       "</style>\n",
       "<table border=\"1\" class=\"dataframe\">\n",
       "  <thead>\n",
       "    <tr style=\"text-align: right;\">\n",
       "      <th></th>\n",
       "      <th>Training Pipeline RF CV</th>\n",
       "      <th>Test Pipeline RF CV</th>\n",
       "    </tr>\n",
       "  </thead>\n",
       "  <tbody>\n",
       "    <tr>\n",
       "      <th>Accuracy</th>\n",
       "      <td>0.998918</td>\n",
       "      <td>0.761246</td>\n",
       "    </tr>\n",
       "    <tr>\n",
       "      <th>Recall</th>\n",
       "      <td>0.998863</td>\n",
       "      <td>0.722727</td>\n",
       "    </tr>\n",
       "    <tr>\n",
       "      <th>Precision</th>\n",
       "      <td>0.999242</td>\n",
       "      <td>0.836842</td>\n",
       "    </tr>\n",
       "    <tr>\n",
       "      <th>F1</th>\n",
       "      <td>0.999052</td>\n",
       "      <td>0.999052</td>\n",
       "    </tr>\n",
       "  </tbody>\n",
       "</table>\n",
       "</div>"
      ],
      "text/plain": [
       "           Training Pipeline RF CV  Test Pipeline RF CV\n",
       "Accuracy                  0.998918             0.761246\n",
       "Recall                    0.998863             0.722727\n",
       "Precision                 0.999242             0.836842\n",
       "F1                        0.999052             0.999052"
      ]
     },
     "execution_count": 43,
     "metadata": {},
     "output_type": "execute_result"
    }
   ],
   "source": [
    "df_base_RF_CV = Eva_Matrix1(pipe_RF_CV, X_train, y_train, X_test, y_test, \"Pipeline RF CV\")\n",
    "df_base_RF_CV"
   ]
  },
  {
   "cell_type": "code",
   "execution_count": 44,
   "metadata": {},
   "outputs": [
    {
     "name": "stdout",
     "output_type": "stream",
     "text": [
      "              precision    recall  f1-score   support\n",
      "\n",
      "           0       0.69      0.81      0.74      1488\n",
      "           1       0.84      0.72      0.78      1980\n",
      "\n",
      "    accuracy                           0.76      3468\n",
      "   macro avg       0.76      0.77      0.76      3468\n",
      "weighted avg       0.77      0.76      0.76      3468\n",
      "\n"
     ]
    },
    {
     "data": {
      "image/png": "[encoded data removed]",
      "text/plain": [
       "<Figure size 432x288 with 2 Axes>"
      ]
     },
     "metadata": {},
     "output_type": "display_data"
    }
   ],
   "source": [
    "print(classification_report(y_test, y_base_RF_CV))\n",
    "cm_RF_CV_test = confusion_matrix(y_test, y_base_RF_CV, labels = [1,0])\n",
    "df_RF_CV_test = pd.DataFrame(data=cm_RF_CV_test, columns=['Pred 1', 'Pred 0'], index=['Akt 1', 'Akt 0'])\n",
    "sns.heatmap(df_RF_CV_test, annot=True)\n",
    "plt.show()"
   ]
  },
  {
   "cell_type": "markdown",
   "metadata": {},
   "source": [
    "### RandomForestClassifier (TfidfVectorizer)"
   ]
  },
  {
   "cell_type": "code",
   "execution_count": 45,
   "metadata": {},
   "outputs": [],
   "source": [
    "pipe_RF_TV = Pipeline([\n",
    "    (\"prep\", TfidfVectorizer(ngram_range=(1,2))),\n",
    "    (\"algo\", RandomForestClassifier())\n",
    "])"
   ]
  },
  {
   "cell_type": "code",
   "execution_count": 46,
   "metadata": {},
   "outputs": [
    {
     "data": {
      "text/plain": [
       "Pipeline(steps=[('prep', TfidfVectorizer(ngram_range=(1, 2))),\n",
       "                ('algo', RandomForestClassifier())])"
      ]
     },
     "execution_count": 46,
     "metadata": {},
     "output_type": "execute_result"
    }
   ],
   "source": [
    "pipe_RF_TV.fit(X_train, y_train)"
   ]
  },
  {
   "cell_type": "code",
   "execution_count": 47,
   "metadata": {},
   "outputs": [],
   "source": [
    "y_base_RF_TV = pipe_RF_TV.predict(X_test)"
   ]
  },
  {
   "cell_type": "code",
   "execution_count": 48,
   "metadata": {},
   "outputs": [
    {
     "data": {
      "text/html": [
       "<div>\n",
       "<style scoped>\n",
       "    .dataframe tbody tr th:only-of-type {\n",
       "        vertical-align: middle;\n",
       "    }\n",
       "\n",
       "    .dataframe tbody tr th {\n",
       "        vertical-align: top;\n",
       "    }\n",
       "\n",
       "    .dataframe thead th {\n",
       "        text-align: right;\n",
       "    }\n",
       "</style>\n",
       "<table border=\"1\" class=\"dataframe\">\n",
       "  <thead>\n",
       "    <tr style=\"text-align: right;\">\n",
       "      <th></th>\n",
       "      <th>Training Pipeline RF TV</th>\n",
       "      <th>Test Pipeline RF TV</th>\n",
       "    </tr>\n",
       "  </thead>\n",
       "  <tbody>\n",
       "    <tr>\n",
       "      <th>Accuracy</th>\n",
       "      <td>0.998918</td>\n",
       "      <td>0.761246</td>\n",
       "    </tr>\n",
       "    <tr>\n",
       "      <th>Recall</th>\n",
       "      <td>0.998863</td>\n",
       "      <td>0.722727</td>\n",
       "    </tr>\n",
       "    <tr>\n",
       "      <th>Precision</th>\n",
       "      <td>0.999242</td>\n",
       "      <td>0.836842</td>\n",
       "    </tr>\n",
       "    <tr>\n",
       "      <th>F1</th>\n",
       "      <td>0.999052</td>\n",
       "      <td>0.999052</td>\n",
       "    </tr>\n",
       "  </tbody>\n",
       "</table>\n",
       "</div>"
      ],
      "text/plain": [
       "           Training Pipeline RF TV  Test Pipeline RF TV\n",
       "Accuracy                  0.998918             0.761246\n",
       "Recall                    0.998863             0.722727\n",
       "Precision                 0.999242             0.836842\n",
       "F1                        0.999052             0.999052"
      ]
     },
     "execution_count": 48,
     "metadata": {},
     "output_type": "execute_result"
    }
   ],
   "source": [
    "df_base_RF_TV = Eva_Matrix1(pipe_RF_CV, X_train, y_train, X_test, y_test, \"Pipeline RF TV\")\n",
    "df_base_RF_TV"
   ]
  },
  {
   "cell_type": "code",
   "execution_count": 49,
   "metadata": {},
   "outputs": [
    {
     "name": "stdout",
     "output_type": "stream",
     "text": [
      "              precision    recall  f1-score   support\n",
      "\n",
      "           0       0.69      0.80      0.74      1488\n",
      "           1       0.83      0.73      0.78      1980\n",
      "\n",
      "    accuracy                           0.76      3468\n",
      "   macro avg       0.76      0.77      0.76      3468\n",
      "weighted avg       0.77      0.76      0.76      3468\n",
      "\n"
     ]
    },
    {
     "data": {
      "image/png": "[encoded data removed]",
      "text/plain": [
       "<Figure size 432x288 with 2 Axes>"
      ]
     },
     "metadata": {},
     "output_type": "display_data"
    }
   ],
   "source": [
    "print(classification_report(y_test, y_base_RF_TV))\n",
    "cm_RF_TV_test = confusion_matrix(y_test, y_base_RF_TV, labels = [1,0])\n",
    "df_RF_TV_test = pd.DataFrame(data=cm_RF_TV_test, columns=['Pred 1', 'Pred 0'], index=['Akt 1', 'Akt 0'])\n",
    "sns.heatmap(df_RF_TV_test, annot=True)\n",
    "plt.show()"
   ]
  },
  {
   "cell_type": "markdown",
   "metadata": {},
   "source": [
    "### ---------------------------------------------------------------------------------------------------------"
   ]
  },
  {
   "cell_type": "markdown",
   "metadata": {},
   "source": [
    "## Hyper Parameter Tuning (CountVectorizer & TfidfVectorizer)"
   ]
  },
  {
   "cell_type": "markdown",
   "metadata": {},
   "source": [
    "### Logistic Regression (CountVectorizer)"
   ]
  },
  {
   "cell_type": "code",
   "execution_count": 50,
   "metadata": {},
   "outputs": [],
   "source": [
    "param_LR = {\n",
    "    \"algo__C\" : np.logspace(-3, 3, 7),\n",
    "    \"algo__penalty\" : ['l1', 'l2', 'elasticnet']\n",
    "}\n",
    "\n",
    "skf = StratifiedKFold(n_splits = 3, random_state = 42)"
   ]
  },
  {
   "cell_type": "code",
   "execution_count": 51,
   "metadata": {},
   "outputs": [],
   "source": [
    "LR_GS_CV = GridSearchCV(pipe_LR_CV, param_LR, cv = skf, scoring = 'recall', n_jobs = -1, verbose = 1)"
   ]
  },
  {
   "cell_type": "code",
   "execution_count": 52,
   "metadata": {},
   "outputs": [
    {
     "name": "stdout",
     "output_type": "stream",
     "text": [
      "Fitting 3 folds for each of 21 candidates, totalling 63 fits\n"
     ]
    },
    {
     "name": "stderr",
     "output_type": "stream",
     "text": [
      "[Parallel(n_jobs=-1)]: Using backend LokyBackend with 4 concurrent workers.\n",
      "[Parallel(n_jobs=-1)]: Done  42 tasks      | elapsed:   23.7s\n",
      "[Parallel(n_jobs=-1)]: Done  63 out of  63 | elapsed:   37.1s finished\n"
     ]
    },
    {
     "data": {
      "text/plain": [
       "GridSearchCV(cv=StratifiedKFold(n_splits=3, random_state=42, shuffle=False),\n",
       "             estimator=Pipeline(steps=[('prep',\n",
       "                                        CountVectorizer(ngram_range=(1, 2))),\n",
       "                                       ('algo', LogisticRegression())]),\n",
       "             n_jobs=-1,\n",
       "             param_grid={'algo__C': array([1.e-03, 1.e-02, 1.e-01, 1.e+00, 1.e+01, 1.e+02, 1.e+03]),\n",
       "                         'algo__penalty': ['l1', 'l2', 'elasticnet']},\n",
       "             scoring='recall', verbose=1)"
      ]
     },
     "execution_count": 52,
     "metadata": {},
     "output_type": "execute_result"
    }
   ],
   "source": [
    "LR_GS_CV.fit(X_train, y_train)"
   ]
  },
  {
   "cell_type": "code",
   "execution_count": 53,
   "metadata": {},
   "outputs": [],
   "source": [
    "LR_HPT_CV = LR_GS_CV.best_estimator_"
   ]
  },
  {
   "cell_type": "code",
   "execution_count": 54,
   "metadata": {},
   "outputs": [],
   "source": [
    "y_test_LR_HPT_CV = LR_HPT_CV.predict(X_test)"
   ]
  },
  {
   "cell_type": "code",
   "execution_count": 55,
   "metadata": {},
   "outputs": [
    {
     "data": {
      "text/html": [
       "<div>\n",
       "<style scoped>\n",
       "    .dataframe tbody tr th:only-of-type {\n",
       "        vertical-align: middle;\n",
       "    }\n",
       "\n",
       "    .dataframe tbody tr th {\n",
       "        vertical-align: top;\n",
       "    }\n",
       "\n",
       "    .dataframe thead th {\n",
       "        text-align: right;\n",
       "    }\n",
       "</style>\n",
       "<table border=\"1\" class=\"dataframe\">\n",
       "  <thead>\n",
       "    <tr style=\"text-align: right;\">\n",
       "      <th></th>\n",
       "      <th>Training Pipeline LR CV Hyper Parameter Tuning</th>\n",
       "      <th>Test Pipeline LR CV Hyper Parameter Tuning</th>\n",
       "    </tr>\n",
       "  </thead>\n",
       "  <tbody>\n",
       "    <tr>\n",
       "      <th>Accuracy</th>\n",
       "      <td>0.621242</td>\n",
       "      <td>0.613033</td>\n",
       "    </tr>\n",
       "    <tr>\n",
       "      <th>Recall</th>\n",
       "      <td>0.988632</td>\n",
       "      <td>0.985354</td>\n",
       "    </tr>\n",
       "    <tr>\n",
       "      <th>Precision</th>\n",
       "      <td>0.602540</td>\n",
       "      <td>0.597733</td>\n",
       "    </tr>\n",
       "    <tr>\n",
       "      <th>F1</th>\n",
       "      <td>0.748744</td>\n",
       "      <td>0.748744</td>\n",
       "    </tr>\n",
       "  </tbody>\n",
       "</table>\n",
       "</div>"
      ],
      "text/plain": [
       "           Training Pipeline LR CV Hyper Parameter Tuning  \\\n",
       "Accuracy                                         0.621242   \n",
       "Recall                                           0.988632   \n",
       "Precision                                        0.602540   \n",
       "F1                                               0.748744   \n",
       "\n",
       "           Test Pipeline LR CV Hyper Parameter Tuning  \n",
       "Accuracy                                     0.613033  \n",
       "Recall                                       0.985354  \n",
       "Precision                                    0.597733  \n",
       "F1                                           0.748744  "
      ]
     },
     "execution_count": 55,
     "metadata": {},
     "output_type": "execute_result"
    }
   ],
   "source": [
    "df_LR_CV_HPT = Eva_Matrix1(LR_HPT_CV, X_train, y_train, X_test, y_test, \"Pipeline LR CV Hyper Parameter Tuning\")\n",
    "df_LR_CV_HPT"
   ]
  },
  {
   "cell_type": "code",
   "execution_count": 56,
   "metadata": {},
   "outputs": [
    {
     "name": "stdout",
     "output_type": "stream",
     "text": [
      "              precision    recall  f1-score   support\n",
      "\n",
      "           0       0.86      0.12      0.21      1488\n",
      "           1       0.60      0.99      0.74      1980\n",
      "\n",
      "    accuracy                           0.61      3468\n",
      "   macro avg       0.73      0.55      0.48      3468\n",
      "weighted avg       0.71      0.61      0.51      3468\n",
      "\n"
     ]
    },
    {
     "data": {
      "image/png": "[encoded data removed]",
      "text/plain": [
       "<Figure size 432x288 with 2 Axes>"
      ]
     },
     "metadata": {},
     "output_type": "display_data"
    }
   ],
   "source": [
    "print(classification_report(y_test, y_test_LR_HPT_CV))\n",
    "cm_LR_CV_test_HPT = confusion_matrix(y_test, y_test_LR_HPT_CV, labels = [1,0])\n",
    "df_LR_CV_test_HPT = pd.DataFrame(data=cm_LR_CV_test_HPT, columns=['Pred 1', 'Pred 0'], index=['Akt 1', 'Akt 0'])\n",
    "sns.heatmap(df_LR_CV_test_HPT, annot=True)\n",
    "plt.show()"
   ]
  },
  {
   "cell_type": "markdown",
   "metadata": {},
   "source": [
    "### Logistic Regression (TfidfVectorizer)"
   ]
  },
  {
   "cell_type": "code",
   "execution_count": 57,
   "metadata": {},
   "outputs": [],
   "source": [
    "LR_GS_TV = GridSearchCV(pipe_LR_TV, param_LR, cv = skf, scoring = 'recall', n_jobs = -1, verbose = 1)"
   ]
  },
  {
   "cell_type": "code",
   "execution_count": 58,
   "metadata": {},
   "outputs": [
    {
     "name": "stdout",
     "output_type": "stream",
     "text": [
      "Fitting 3 folds for each of 21 candidates, totalling 63 fits\n"
     ]
    },
    {
     "name": "stderr",
     "output_type": "stream",
     "text": [
      "[Parallel(n_jobs=-1)]: Using backend LokyBackend with 4 concurrent workers.\n",
      "[Parallel(n_jobs=-1)]: Done  42 tasks      | elapsed:   25.0s\n",
      "[Parallel(n_jobs=-1)]: Done  63 out of  63 | elapsed:   39.1s finished\n"
     ]
    },
    {
     "data": {
      "text/plain": [
       "GridSearchCV(cv=StratifiedKFold(n_splits=3, random_state=42, shuffle=False),\n",
       "             estimator=Pipeline(steps=[('prep',\n",
       "                                        TfidfVectorizer(ngram_range=(1, 2))),\n",
       "                                       ('algo', LogisticRegression())]),\n",
       "             n_jobs=-1,\n",
       "             param_grid={'algo__C': array([1.e-03, 1.e-02, 1.e-01, 1.e+00, 1.e+01, 1.e+02, 1.e+03]),\n",
       "                         'algo__penalty': ['l1', 'l2', 'elasticnet']},\n",
       "             scoring='recall', verbose=1)"
      ]
     },
     "execution_count": 58,
     "metadata": {},
     "output_type": "execute_result"
    }
   ],
   "source": [
    "LR_GS_TV.fit(X_train, y_train)"
   ]
  },
  {
   "cell_type": "code",
   "execution_count": 59,
   "metadata": {},
   "outputs": [],
   "source": [
    "LR_HPT_TV = LR_GS_TV.best_estimator_"
   ]
  },
  {
   "cell_type": "code",
   "execution_count": 60,
   "metadata": {},
   "outputs": [],
   "source": [
    "y_test_LR_HPT_TV = LR_HPT_TV.predict(X_test)"
   ]
  },
  {
   "cell_type": "code",
   "execution_count": 61,
   "metadata": {},
   "outputs": [
    {
     "data": {
      "text/html": [
       "<div>\n",
       "<style scoped>\n",
       "    .dataframe tbody tr th:only-of-type {\n",
       "        vertical-align: middle;\n",
       "    }\n",
       "\n",
       "    .dataframe tbody tr th {\n",
       "        vertical-align: top;\n",
       "    }\n",
       "\n",
       "    .dataframe thead th {\n",
       "        text-align: right;\n",
       "    }\n",
       "</style>\n",
       "<table border=\"1\" class=\"dataframe\">\n",
       "  <thead>\n",
       "    <tr style=\"text-align: right;\">\n",
       "      <th></th>\n",
       "      <th>Training Pipeline LR TV Hyper Parameter Tuning</th>\n",
       "      <th>Test Pipeline LR TV Hyper Parameter Tuning</th>\n",
       "    </tr>\n",
       "  </thead>\n",
       "  <tbody>\n",
       "    <tr>\n",
       "      <th>Accuracy</th>\n",
       "      <td>0.570841</td>\n",
       "      <td>0.570934</td>\n",
       "    </tr>\n",
       "    <tr>\n",
       "      <th>Recall</th>\n",
       "      <td>1.000000</td>\n",
       "      <td>1.000000</td>\n",
       "    </tr>\n",
       "    <tr>\n",
       "      <th>Precision</th>\n",
       "      <td>0.570841</td>\n",
       "      <td>0.570934</td>\n",
       "    </tr>\n",
       "    <tr>\n",
       "      <th>F1</th>\n",
       "      <td>0.726797</td>\n",
       "      <td>0.726797</td>\n",
       "    </tr>\n",
       "  </tbody>\n",
       "</table>\n",
       "</div>"
      ],
      "text/plain": [
       "           Training Pipeline LR TV Hyper Parameter Tuning  \\\n",
       "Accuracy                                         0.570841   \n",
       "Recall                                           1.000000   \n",
       "Precision                                        0.570841   \n",
       "F1                                               0.726797   \n",
       "\n",
       "           Test Pipeline LR TV Hyper Parameter Tuning  \n",
       "Accuracy                                     0.570934  \n",
       "Recall                                       1.000000  \n",
       "Precision                                    0.570934  \n",
       "F1                                           0.726797  "
      ]
     },
     "execution_count": 61,
     "metadata": {},
     "output_type": "execute_result"
    }
   ],
   "source": [
    "df_LR_TV_HPT = Eva_Matrix1(LR_HPT_TV, X_train, y_train, X_test, y_test, \"Pipeline LR TV Hyper Parameter Tuning\")\n",
    "df_LR_TV_HPT"
   ]
  },
  {
   "cell_type": "code",
   "execution_count": 62,
   "metadata": {},
   "outputs": [
    {
     "name": "stdout",
     "output_type": "stream",
     "text": [
      "              precision    recall  f1-score   support\n",
      "\n",
      "           0       0.00      0.00      0.00      1488\n",
      "           1       0.57      1.00      0.73      1980\n",
      "\n",
      "    accuracy                           0.57      3468\n",
      "   macro avg       0.29      0.50      0.36      3468\n",
      "weighted avg       0.33      0.57      0.41      3468\n",
      "\n"
     ]
    },
    {
     "data": {
      "image/png": "[encoded data removed]",
      "text/plain": [
       "<Figure size 432x288 with 2 Axes>"
      ]
     },
     "metadata": {},
     "output_type": "display_data"
    }
   ],
   "source": [
    "print(classification_report(y_test, y_test_LR_HPT_TV))\n",
    "cm_LR_TV_test_HPT = confusion_matrix(y_test, y_test_LR_HPT_TV, labels = [1,0])\n",
    "df_LR_TV_test_HPT = pd.DataFrame(data=cm_LR_TV_test_HPT, columns=['Pred 1', 'Pred 0'], index=['Akt 1', 'Akt 0'])\n",
    "sns.heatmap(df_LR_TV_test_HPT, annot=True)\n",
    "plt.show()"
   ]
  },
  {
   "cell_type": "markdown",
   "metadata": {},
   "source": [
    "### ---------------------------------------------------------------------------------------------------------"
   ]
  },
  {
   "cell_type": "markdown",
   "metadata": {},
   "source": [
    "### KNN (CountVectorizer)"
   ]
  },
  {
   "cell_type": "code",
   "execution_count": 63,
   "metadata": {},
   "outputs": [],
   "source": [
    "param_KNN = {\n",
    "    \"algo__n_neighbors\" : np.arange(1, 51, 2),\n",
    "    \"algo__p\" : [1, 2],\n",
    "    \"algo__weights\" : ['uniform', 'distance']\n",
    "}\n",
    "\n",
    "skf = StratifiedKFold(n_splits = 3, random_state = 42)"
   ]
  },
  {
   "cell_type": "code",
   "execution_count": 64,
   "metadata": {},
   "outputs": [],
   "source": [
    "KNN_GS_CV = GridSearchCV(pipe_KNN_CV, param_KNN, cv = skf, scoring = 'recall', n_jobs = -1, verbose = 1)"
   ]
  },
  {
   "cell_type": "code",
   "execution_count": 65,
   "metadata": {},
   "outputs": [
    {
     "name": "stdout",
     "output_type": "stream",
     "text": [
      "Fitting 3 folds for each of 100 candidates, totalling 300 fits\n"
     ]
    },
    {
     "name": "stderr",
     "output_type": "stream",
     "text": [
      "[Parallel(n_jobs=-1)]: Using backend LokyBackend with 4 concurrent workers.\n",
      "[Parallel(n_jobs=-1)]: Done  42 tasks      | elapsed:  2.2min\n",
      "[Parallel(n_jobs=-1)]: Done 192 tasks      | elapsed:  9.6min\n",
      "[Parallel(n_jobs=-1)]: Done 300 out of 300 | elapsed: 14.9min finished\n"
     ]
    },
    {
     "data": {
      "text/plain": [
       "GridSearchCV(cv=StratifiedKFold(n_splits=3, random_state=42, shuffle=False),\n",
       "             estimator=Pipeline(steps=[('prep',\n",
       "                                        CountVectorizer(ngram_range=(1, 2))),\n",
       "                                       ('algo', KNeighborsClassifier())]),\n",
       "             n_jobs=-1,\n",
       "             param_grid={'algo__n_neighbors': array([ 1,  3,  5,  7,  9, 11, 13, 15, 17, 19, 21, 23, 25, 27, 29, 31, 33,\n",
       "       35, 37, 39, 41, 43, 45, 47, 49]),\n",
       "                         'algo__p': [1, 2],\n",
       "                         'algo__weights': ['uniform', 'distance']},\n",
       "             scoring='recall', verbose=1)"
      ]
     },
     "execution_count": 65,
     "metadata": {},
     "output_type": "execute_result"
    }
   ],
   "source": [
    "KNN_GS_CV.fit(X_train, y_train)"
   ]
  },
  {
   "cell_type": "code",
   "execution_count": 66,
   "metadata": {},
   "outputs": [],
   "source": [
    "KNN_HPT_CV = KNN_GS_CV.best_estimator_"
   ]
  },
  {
   "cell_type": "code",
   "execution_count": 67,
   "metadata": {},
   "outputs": [],
   "source": [
    "y_test_KNN_HPT_CV = KNN_HPT_CV.predict(X_test)"
   ]
  },
  {
   "cell_type": "code",
   "execution_count": 68,
   "metadata": {},
   "outputs": [
    {
     "data": {
      "text/html": [
       "<div>\n",
       "<style scoped>\n",
       "    .dataframe tbody tr th:only-of-type {\n",
       "        vertical-align: middle;\n",
       "    }\n",
       "\n",
       "    .dataframe tbody tr th {\n",
       "        vertical-align: top;\n",
       "    }\n",
       "\n",
       "    .dataframe thead th {\n",
       "        text-align: right;\n",
       "    }\n",
       "</style>\n",
       "<table border=\"1\" class=\"dataframe\">\n",
       "  <thead>\n",
       "    <tr style=\"text-align: right;\">\n",
       "      <th></th>\n",
       "      <th>Training Pipeline KNN CV Hyper Parameter Tuning</th>\n",
       "      <th>Test Pipeline KNN CV Hyper Parameter Tuning</th>\n",
       "    </tr>\n",
       "  </thead>\n",
       "  <tbody>\n",
       "    <tr>\n",
       "      <th>Accuracy</th>\n",
       "      <td>0.582162</td>\n",
       "      <td>0.579585</td>\n",
       "    </tr>\n",
       "    <tr>\n",
       "      <th>Recall</th>\n",
       "      <td>0.997853</td>\n",
       "      <td>0.997475</td>\n",
       "    </tr>\n",
       "    <tr>\n",
       "      <th>Precision</th>\n",
       "      <td>0.577570</td>\n",
       "      <td>0.576138</td>\n",
       "    </tr>\n",
       "    <tr>\n",
       "      <th>F1</th>\n",
       "      <td>0.731651</td>\n",
       "      <td>0.731651</td>\n",
       "    </tr>\n",
       "  </tbody>\n",
       "</table>\n",
       "</div>"
      ],
      "text/plain": [
       "           Training Pipeline KNN CV Hyper Parameter Tuning  \\\n",
       "Accuracy                                          0.582162   \n",
       "Recall                                            0.997853   \n",
       "Precision                                         0.577570   \n",
       "F1                                                0.731651   \n",
       "\n",
       "           Test Pipeline KNN CV Hyper Parameter Tuning  \n",
       "Accuracy                                      0.579585  \n",
       "Recall                                        0.997475  \n",
       "Precision                                     0.576138  \n",
       "F1                                            0.731651  "
      ]
     },
     "execution_count": 68,
     "metadata": {},
     "output_type": "execute_result"
    }
   ],
   "source": [
    "df_KNN_CV_HPT = Eva_Matrix1(KNN_HPT_CV, X_train, y_train, X_test, y_test, \"Pipeline KNN CV Hyper Parameter Tuning\")\n",
    "df_KNN_CV_HPT"
   ]
  },
  {
   "cell_type": "code",
   "execution_count": 69,
   "metadata": {},
   "outputs": [
    {
     "name": "stdout",
     "output_type": "stream",
     "text": [
      "              precision    recall  f1-score   support\n",
      "\n",
      "           0       0.88      0.02      0.05      1488\n",
      "           1       0.58      1.00      0.73      1980\n",
      "\n",
      "    accuracy                           0.58      3468\n",
      "   macro avg       0.73      0.51      0.39      3468\n",
      "weighted avg       0.70      0.58      0.44      3468\n",
      "\n"
     ]
    },
    {
     "data": {
      "image/png": "[encoded data removed]",
      "text/plain": [
       "<Figure size 432x288 with 2 Axes>"
      ]
     },
     "metadata": {},
     "output_type": "display_data"
    }
   ],
   "source": [
    "print(classification_report(y_test, y_test_KNN_HPT_CV))\n",
    "cm_KNN_CV_test_HPT = confusion_matrix(y_test, y_test_KNN_HPT_CV, labels = [1,0])\n",
    "df_KNN_CV_test_HPT = pd.DataFrame(data=cm_KNN_CV_test_HPT, columns=['Pred 1', 'Pred 0'], index=['Akt 1', 'Akt 0'])\n",
    "sns.heatmap(df_KNN_CV_test_HPT, annot=True)\n",
    "plt.show()"
   ]
  },
  {
   "cell_type": "markdown",
   "metadata": {},
   "source": [
    "### KNN (TfidfVectorizer)"
   ]
  },
  {
   "cell_type": "code",
   "execution_count": 72,
   "metadata": {},
   "outputs": [],
   "source": [
    "KNN_GS_TV = GridSearchCV(pipe_KNN_TV, param_KNN, cv = skf, scoring = 'recall', n_jobs = -1, verbose = 1)"
   ]
  },
  {
   "cell_type": "code",
   "execution_count": 73,
   "metadata": {},
   "outputs": [
    {
     "name": "stdout",
     "output_type": "stream",
     "text": [
      "Fitting 3 folds for each of 100 candidates, totalling 300 fits\n"
     ]
    },
    {
     "name": "stderr",
     "output_type": "stream",
     "text": [
      "[Parallel(n_jobs=-1)]: Using backend LokyBackend with 4 concurrent workers.\n",
      "[Parallel(n_jobs=-1)]: Done  42 tasks      | elapsed:  1.7min\n",
      "[Parallel(n_jobs=-1)]: Done 192 tasks      | elapsed:  7.7min\n",
      "[Parallel(n_jobs=-1)]: Done 300 out of 300 | elapsed: 12.5min finished\n"
     ]
    },
    {
     "data": {
      "text/plain": [
       "GridSearchCV(cv=StratifiedKFold(n_splits=3, random_state=42, shuffle=False),\n",
       "             estimator=Pipeline(steps=[('prep',\n",
       "                                        TfidfVectorizer(ngram_range=(1, 2))),\n",
       "                                       ('algo', KNeighborsClassifier())]),\n",
       "             n_jobs=-1,\n",
       "             param_grid={'algo__n_neighbors': array([ 1,  3,  5,  7,  9, 11, 13, 15, 17, 19, 21, 23, 25, 27, 29, 31, 33,\n",
       "       35, 37, 39, 41, 43, 45, 47, 49]),\n",
       "                         'algo__p': [1, 2],\n",
       "                         'algo__weights': ['uniform', 'distance']},\n",
       "             scoring='recall', verbose=1)"
      ]
     },
     "execution_count": 73,
     "metadata": {},
     "output_type": "execute_result"
    }
   ],
   "source": [
    "KNN_GS_TV.fit(X_train, y_train)"
   ]
  },
  {
   "cell_type": "code",
   "execution_count": 74,
   "metadata": {},
   "outputs": [],
   "source": [
    "KNN_HPT_TV = KNN_GS_TV.best_estimator_"
   ]
  },
  {
   "cell_type": "code",
   "execution_count": 75,
   "metadata": {},
   "outputs": [],
   "source": [
    "y_test_KNN_HPT_TV = KNN_HPT_TV.predict(X_test)"
   ]
  },
  {
   "cell_type": "code",
   "execution_count": 76,
   "metadata": {},
   "outputs": [
    {
     "data": {
      "text/html": [
       "<div>\n",
       "<style scoped>\n",
       "    .dataframe tbody tr th:only-of-type {\n",
       "        vertical-align: middle;\n",
       "    }\n",
       "\n",
       "    .dataframe tbody tr th {\n",
       "        vertical-align: top;\n",
       "    }\n",
       "\n",
       "    .dataframe thead th {\n",
       "        text-align: right;\n",
       "    }\n",
       "</style>\n",
       "<table border=\"1\" class=\"dataframe\">\n",
       "  <thead>\n",
       "    <tr style=\"text-align: right;\">\n",
       "      <th></th>\n",
       "      <th>Training Pipeline KNN TV Hyper Parameter Tuning</th>\n",
       "      <th>Test Pipeline KNN TV Hyper Parameter Tuning</th>\n",
       "    </tr>\n",
       "  </thead>\n",
       "  <tbody>\n",
       "    <tr>\n",
       "      <th>Accuracy</th>\n",
       "      <td>0.584757</td>\n",
       "      <td>0.584775</td>\n",
       "    </tr>\n",
       "    <tr>\n",
       "      <th>Recall</th>\n",
       "      <td>0.993811</td>\n",
       "      <td>0.988889</td>\n",
       "    </tr>\n",
       "    <tr>\n",
       "      <th>Precision</th>\n",
       "      <td>0.579467</td>\n",
       "      <td>0.579976</td>\n",
       "    </tr>\n",
       "    <tr>\n",
       "      <th>F1</th>\n",
       "      <td>0.732077</td>\n",
       "      <td>0.732077</td>\n",
       "    </tr>\n",
       "  </tbody>\n",
       "</table>\n",
       "</div>"
      ],
      "text/plain": [
       "           Training Pipeline KNN TV Hyper Parameter Tuning  \\\n",
       "Accuracy                                          0.584757   \n",
       "Recall                                            0.993811   \n",
       "Precision                                         0.579467   \n",
       "F1                                                0.732077   \n",
       "\n",
       "           Test Pipeline KNN TV Hyper Parameter Tuning  \n",
       "Accuracy                                      0.584775  \n",
       "Recall                                        0.988889  \n",
       "Precision                                     0.579976  \n",
       "F1                                            0.732077  "
      ]
     },
     "execution_count": 76,
     "metadata": {},
     "output_type": "execute_result"
    }
   ],
   "source": [
    "df_KNN_TV_HPT = Eva_Matrix1(KNN_HPT_TV, X_train, y_train, X_test, y_test, \"Pipeline KNN TV Hyper Parameter Tuning\")\n",
    "df_KNN_TV_HPT"
   ]
  },
  {
   "cell_type": "code",
   "execution_count": 77,
   "metadata": {},
   "outputs": [
    {
     "name": "stdout",
     "output_type": "stream",
     "text": [
      "              precision    recall  f1-score   support\n",
      "\n",
      "           0       0.76      0.05      0.09      1488\n",
      "           1       0.58      0.99      0.73      1980\n",
      "\n",
      "    accuracy                           0.58      3468\n",
      "   macro avg       0.67      0.52      0.41      3468\n",
      "weighted avg       0.66      0.58      0.46      3468\n",
      "\n"
     ]
    },
    {
     "data": {
      "image/png": "[encoded data removed]",
      "text/plain": [
       "<Figure size 432x288 with 2 Axes>"
      ]
     },
     "metadata": {},
     "output_type": "display_data"
    }
   ],
   "source": [
    "print(classification_report(y_test, y_test_KNN_HPT_TV))\n",
    "cm_KNN_TV_test_HPT = confusion_matrix(y_test, y_test_KNN_HPT_TV, labels = [1,0])\n",
    "df_KNN_TV_test_HPT = pd.DataFrame(data=cm_KNN_TV_test_HPT, columns=['Pred 1', 'Pred 0'], index=['Akt 1', 'Akt 0'])\n",
    "sns.heatmap(df_KNN_TV_test_HPT, annot=True)\n",
    "plt.show()"
   ]
  },
  {
   "cell_type": "markdown",
   "metadata": {},
   "source": [
    "### ---------------------------------------------------------------------------------------------------------"
   ]
  },
  {
   "cell_type": "markdown",
   "metadata": {},
   "source": [
    "### DecisionTreeClasifier (CountVectorizer)"
   ]
  },
  {
   "cell_type": "code",
   "execution_count": 81,
   "metadata": {},
   "outputs": [],
   "source": [
    "param_DT = {\n",
    "    \"algo__max_depth\" : [None, 5, 10, 15],\n",
    "    \"algo__min_samples_leaf\" : np.arange(1, 20, 5),\n",
    "    \"algo__max_features\" : np.arange(0, 1.1, 0.3)\n",
    "}\n",
    "\n",
    "skf = StratifiedKFold(n_splits = 3, random_state = 42)"
   ]
  },
  {
   "cell_type": "code",
   "execution_count": 82,
   "metadata": {},
   "outputs": [],
   "source": [
    "DT_GS_CV = GridSearchCV(pipe_DT_CV, param_DT, cv = skf, scoring = 'recall', n_jobs = -1, verbose = 1)"
   ]
  },
  {
   "cell_type": "code",
   "execution_count": 83,
   "metadata": {},
   "outputs": [
    {
     "name": "stdout",
     "output_type": "stream",
     "text": [
      "Fitting 3 folds for each of 64 candidates, totalling 192 fits\n"
     ]
    },
    {
     "name": "stderr",
     "output_type": "stream",
     "text": [
      "[Parallel(n_jobs=-1)]: Using backend LokyBackend with 4 concurrent workers.\n",
      "[Parallel(n_jobs=-1)]: Done  42 tasks      | elapsed:  1.1min\n",
      "[Parallel(n_jobs=-1)]: Done 192 out of 192 | elapsed:  2.4min finished\n"
     ]
    },
    {
     "data": {
      "text/plain": [
       "GridSearchCV(cv=StratifiedKFold(n_splits=3, random_state=42, shuffle=False),\n",
       "             estimator=Pipeline(steps=[('prep',\n",
       "                                        CountVectorizer(ngram_range=(1, 2))),\n",
       "                                       ('algo', DecisionTreeClassifier())]),\n",
       "             n_jobs=-1,\n",
       "             param_grid={'algo__max_depth': [None, 5, 10, 15],\n",
       "                         'algo__max_features': array([0. , 0.3, 0.6, 0.9]),\n",
       "                         'algo__min_samples_leaf': array([ 1,  6, 11, 16])},\n",
       "             scoring='recall', verbose=1)"
      ]
     },
     "execution_count": 83,
     "metadata": {},
     "output_type": "execute_result"
    }
   ],
   "source": [
    "DT_GS_CV.fit(X_train, y_train)"
   ]
  },
  {
   "cell_type": "code",
   "execution_count": 84,
   "metadata": {},
   "outputs": [],
   "source": [
    "DT_HPT_CV = DT_GS_CV.best_estimator_"
   ]
  },
  {
   "cell_type": "code",
   "execution_count": 85,
   "metadata": {},
   "outputs": [],
   "source": [
    "y_test_DT_HPT_CV = DT_HPT_CV.predict(X_test)"
   ]
  },
  {
   "cell_type": "code",
   "execution_count": 86,
   "metadata": {},
   "outputs": [
    {
     "data": {
      "text/html": [
       "<div>\n",
       "<style scoped>\n",
       "    .dataframe tbody tr th:only-of-type {\n",
       "        vertical-align: middle;\n",
       "    }\n",
       "\n",
       "    .dataframe tbody tr th {\n",
       "        vertical-align: top;\n",
       "    }\n",
       "\n",
       "    .dataframe thead th {\n",
       "        text-align: right;\n",
       "    }\n",
       "</style>\n",
       "<table border=\"1\" class=\"dataframe\">\n",
       "  <thead>\n",
       "    <tr style=\"text-align: right;\">\n",
       "      <th></th>\n",
       "      <th>Training Pipeline DT CV Hyper Parameter Tuning</th>\n",
       "      <th>Test Pipeline DT CV Hyper Parameter Tuning</th>\n",
       "    </tr>\n",
       "  </thead>\n",
       "  <tbody>\n",
       "    <tr>\n",
       "      <th>Accuracy</th>\n",
       "      <td>0.617925</td>\n",
       "      <td>0.611303</td>\n",
       "    </tr>\n",
       "    <tr>\n",
       "      <th>Recall</th>\n",
       "      <td>0.989895</td>\n",
       "      <td>0.985859</td>\n",
       "    </tr>\n",
       "    <tr>\n",
       "      <th>Precision</th>\n",
       "      <td>0.600260</td>\n",
       "      <td>0.596577</td>\n",
       "    </tr>\n",
       "    <tr>\n",
       "      <th>F1</th>\n",
       "      <td>0.747342</td>\n",
       "      <td>0.747342</td>\n",
       "    </tr>\n",
       "  </tbody>\n",
       "</table>\n",
       "</div>"
      ],
      "text/plain": [
       "           Training Pipeline DT CV Hyper Parameter Tuning  \\\n",
       "Accuracy                                         0.617925   \n",
       "Recall                                           0.989895   \n",
       "Precision                                        0.600260   \n",
       "F1                                               0.747342   \n",
       "\n",
       "           Test Pipeline DT CV Hyper Parameter Tuning  \n",
       "Accuracy                                     0.611303  \n",
       "Recall                                       0.985859  \n",
       "Precision                                    0.596577  \n",
       "F1                                           0.747342  "
      ]
     },
     "execution_count": 86,
     "metadata": {},
     "output_type": "execute_result"
    }
   ],
   "source": [
    "df_DT_CV_HPT = Eva_Matrix1(DT_HPT_CV, X_train, y_train, X_test, y_test, \"Pipeline DT CV Hyper Parameter Tuning\")\n",
    "df_DT_CV_HPT"
   ]
  },
  {
   "cell_type": "code",
   "execution_count": 87,
   "metadata": {},
   "outputs": [
    {
     "name": "stdout",
     "output_type": "stream",
     "text": [
      "              precision    recall  f1-score   support\n",
      "\n",
      "           0       0.86      0.11      0.20      1488\n",
      "           1       0.60      0.99      0.74      1980\n",
      "\n",
      "    accuracy                           0.61      3468\n",
      "   macro avg       0.73      0.55      0.47      3468\n",
      "weighted avg       0.71      0.61      0.51      3468\n",
      "\n"
     ]
    },
    {
     "data": {
      "image/png": "[encoded data removed]",
      "text/plain": [
       "<Figure size 432x288 with 2 Axes>"
      ]
     },
     "metadata": {},
     "output_type": "display_data"
    }
   ],
   "source": [
    "print(classification_report(y_test, y_test_DT_HPT_CV))\n",
    "cm_DT_CV_test_HPT = confusion_matrix(y_test, y_test_DT_HPT_CV, labels = [1,0])\n",
    "df_DT_CV_test_HPT = pd.DataFrame(data=cm_DT_CV_test_HPT, columns=['Pred 1', 'Pred 0'], index=['Akt 1', 'Akt 0'])\n",
    "sns.heatmap(df_DT_CV_test_HPT, annot=True)\n",
    "plt.show()"
   ]
  },
  {
   "cell_type": "markdown",
   "metadata": {},
   "source": [
    "### DecisionTreeClasifier (TfidfVectorizer)"
   ]
  },
  {
   "cell_type": "code",
   "execution_count": 88,
   "metadata": {},
   "outputs": [],
   "source": [
    "DT_GS_TV = GridSearchCV(pipe_DT_TV, param_DT, cv = skf, scoring = 'recall', n_jobs = -1, verbose = 1)"
   ]
  },
  {
   "cell_type": "code",
   "execution_count": 89,
   "metadata": {},
   "outputs": [
    {
     "name": "stdout",
     "output_type": "stream",
     "text": [
      "Fitting 3 folds for each of 64 candidates, totalling 192 fits\n"
     ]
    },
    {
     "name": "stderr",
     "output_type": "stream",
     "text": [
      "[Parallel(n_jobs=-1)]: Using backend LokyBackend with 4 concurrent workers.\n",
      "[Parallel(n_jobs=-1)]: Done  42 tasks      | elapsed:  1.1min\n",
      "[Parallel(n_jobs=-1)]: Done 192 out of 192 | elapsed:  2.4min finished\n"
     ]
    },
    {
     "data": {
      "text/plain": [
       "GridSearchCV(cv=StratifiedKFold(n_splits=3, random_state=42, shuffle=False),\n",
       "             estimator=Pipeline(steps=[('prep',\n",
       "                                        TfidfVectorizer(ngram_range=(1, 2))),\n",
       "                                       ('algo', DecisionTreeClassifier())]),\n",
       "             n_jobs=-1,\n",
       "             param_grid={'algo__max_depth': [None, 5, 10, 15],\n",
       "                         'algo__max_features': array([0. , 0.3, 0.6, 0.9]),\n",
       "                         'algo__min_samples_leaf': array([ 1,  6, 11, 16])},\n",
       "             scoring='recall', verbose=1)"
      ]
     },
     "execution_count": 89,
     "metadata": {},
     "output_type": "execute_result"
    }
   ],
   "source": [
    "DT_GS_TV.fit(X_train, y_train)"
   ]
  },
  {
   "cell_type": "code",
   "execution_count": 90,
   "metadata": {},
   "outputs": [],
   "source": [
    "DT_HPT_TV = DT_GS_TV.best_estimator_"
   ]
  },
  {
   "cell_type": "code",
   "execution_count": 91,
   "metadata": {},
   "outputs": [],
   "source": [
    "y_test_DT_HPT_TV = DT_HPT_TV.predict(X_test)"
   ]
  },
  {
   "cell_type": "code",
   "execution_count": 92,
   "metadata": {},
   "outputs": [
    {
     "data": {
      "text/html": [
       "<div>\n",
       "<style scoped>\n",
       "    .dataframe tbody tr th:only-of-type {\n",
       "        vertical-align: middle;\n",
       "    }\n",
       "\n",
       "    .dataframe tbody tr th {\n",
       "        vertical-align: top;\n",
       "    }\n",
       "\n",
       "    .dataframe thead th {\n",
       "        text-align: right;\n",
       "    }\n",
       "</style>\n",
       "<table border=\"1\" class=\"dataframe\">\n",
       "  <thead>\n",
       "    <tr style=\"text-align: right;\">\n",
       "      <th></th>\n",
       "      <th>Training Pipeline DT TV Hyper Parameter Tuning</th>\n",
       "      <th>Test Pipeline DT TV Hyper Parameter Tuning</th>\n",
       "    </tr>\n",
       "  </thead>\n",
       "  <tbody>\n",
       "    <tr>\n",
       "      <th>Accuracy</th>\n",
       "      <td>0.617636</td>\n",
       "      <td>0.610438</td>\n",
       "    </tr>\n",
       "    <tr>\n",
       "      <th>Recall</th>\n",
       "      <td>0.992800</td>\n",
       "      <td>0.990909</td>\n",
       "    </tr>\n",
       "    <tr>\n",
       "      <th>Precision</th>\n",
       "      <td>0.599725</td>\n",
       "      <td>0.595448</td>\n",
       "    </tr>\n",
       "    <tr>\n",
       "      <th>F1</th>\n",
       "      <td>0.747752</td>\n",
       "      <td>0.747752</td>\n",
       "    </tr>\n",
       "  </tbody>\n",
       "</table>\n",
       "</div>"
      ],
      "text/plain": [
       "           Training Pipeline DT TV Hyper Parameter Tuning  \\\n",
       "Accuracy                                         0.617636   \n",
       "Recall                                           0.992800   \n",
       "Precision                                        0.599725   \n",
       "F1                                               0.747752   \n",
       "\n",
       "           Test Pipeline DT TV Hyper Parameter Tuning  \n",
       "Accuracy                                     0.610438  \n",
       "Recall                                       0.990909  \n",
       "Precision                                    0.595448  \n",
       "F1                                           0.747752  "
      ]
     },
     "execution_count": 92,
     "metadata": {},
     "output_type": "execute_result"
    }
   ],
   "source": [
    "df_DT_TV_HPT = Eva_Matrix1(DT_HPT_TV, X_train, y_train, X_test, y_test, \"Pipeline DT TV Hyper Parameter Tuning\")\n",
    "df_DT_TV_HPT"
   ]
  },
  {
   "cell_type": "code",
   "execution_count": 93,
   "metadata": {},
   "outputs": [
    {
     "name": "stdout",
     "output_type": "stream",
     "text": [
      "              precision    recall  f1-score   support\n",
      "\n",
      "           0       0.90      0.10      0.19      1488\n",
      "           1       0.60      0.99      0.74      1980\n",
      "\n",
      "    accuracy                           0.61      3468\n",
      "   macro avg       0.75      0.55      0.47      3468\n",
      "weighted avg       0.72      0.61      0.50      3468\n",
      "\n"
     ]
    },
    {
     "data": {
      "image/png": "[encoded data removed]",
      "text/plain": [
       "<Figure size 432x288 with 2 Axes>"
      ]
     },
     "metadata": {},
     "output_type": "display_data"
    }
   ],
   "source": [
    "print(classification_report(y_test, y_test_DT_HPT_TV))\n",
    "cm_DT_TV_test_HPT = confusion_matrix(y_test, y_test_DT_HPT_TV, labels = [1,0])\n",
    "df_DT_TV_test_HPT = pd.DataFrame(data=cm_DT_TV_test_HPT, columns=['Pred 1', 'Pred 0'], index=['Akt 1', 'Akt 0'])\n",
    "sns.heatmap(df_DT_TV_test_HPT, annot=True)\n",
    "plt.show()"
   ]
  },
  {
   "cell_type": "markdown",
   "metadata": {},
   "source": [
    "### ---------------------------------------------------------------------------------------------------------"
   ]
  },
  {
   "cell_type": "markdown",
   "metadata": {},
   "source": [
    "### RandomForestClassifier (CountVectorizer)"
   ]
  },
  {
   "cell_type": "code",
   "execution_count": 94,
   "metadata": {},
   "outputs": [],
   "source": [
    "param_RF = {\n",
    "    \"algo__n_estimators\" : np.arange(100, 301, 100), \n",
    "    \"algo__max_depth\" : [None, 5, 10],\n",
    "    \"algo__min_samples_leaf\" : np.arange(1, 12, 5), \n",
    "    \"algo__max_features\" : [0.3, 0.5, 0.7, 0.8] \n",
    "}\n",
    "\n",
    "skf = StratifiedKFold(n_splits = 3, random_state = 42)"
   ]
  },
  {
   "cell_type": "code",
   "execution_count": 95,
   "metadata": {},
   "outputs": [],
   "source": [
    "RF_GS_CV = GridSearchCV(pipe_RF_CV, param_RF, cv = skf, scoring = 'recall', n_jobs = -1, verbose = 1)"
   ]
  },
  {
   "cell_type": "code",
   "execution_count": 96,
   "metadata": {},
   "outputs": [
    {
     "name": "stdout",
     "output_type": "stream",
     "text": [
      "Fitting 3 folds for each of 108 candidates, totalling 324 fits\n"
     ]
    },
    {
     "name": "stderr",
     "output_type": "stream",
     "text": [
      "[Parallel(n_jobs=-1)]: Using backend LokyBackend with 4 concurrent workers.\n",
      "[Parallel(n_jobs=-1)]: Done  42 tasks      | elapsed: 128.3min\n",
      "[Parallel(n_jobs=-1)]: Done 192 tasks      | elapsed: 417.6min\n",
      "[Parallel(n_jobs=-1)]: Done 324 out of 324 | elapsed: 458.1min finished\n"
     ]
    },
    {
     "data": {
      "text/plain": [
       "GridSearchCV(cv=StratifiedKFold(n_splits=3, random_state=42, shuffle=False),\n",
       "             estimator=Pipeline(steps=[('prep',\n",
       "                                        CountVectorizer(ngram_range=(1, 2))),\n",
       "                                       ('algo', RandomForestClassifier())]),\n",
       "             n_jobs=-1,\n",
       "             param_grid={'algo__max_depth': [None, 5, 10],\n",
       "                         'algo__max_features': [0.3, 0.5, 0.7, 0.8],\n",
       "                         'algo__min_samples_leaf': array([ 1,  6, 11]),\n",
       "                         'algo__n_estimators': array([100, 200, 300])},\n",
       "             scoring='recall', verbose=1)"
      ]
     },
     "execution_count": 96,
     "metadata": {},
     "output_type": "execute_result"
    }
   ],
   "source": [
    "RF_GS_CV.fit(X_train, y_train)"
   ]
  },
  {
   "cell_type": "code",
   "execution_count": 97,
   "metadata": {},
   "outputs": [],
   "source": [
    "RF_HPT_CV = RF_GS_CV.best_estimator_"
   ]
  },
  {
   "cell_type": "code",
   "execution_count": 98,
   "metadata": {},
   "outputs": [],
   "source": [
    "y_test_RF_HPT_CV = RF_HPT_CV.predict(X_test)"
   ]
  },
  {
   "cell_type": "code",
   "execution_count": 99,
   "metadata": {},
   "outputs": [
    {
     "data": {
      "text/html": [
       "<div>\n",
       "<style scoped>\n",
       "    .dataframe tbody tr th:only-of-type {\n",
       "        vertical-align: middle;\n",
       "    }\n",
       "\n",
       "    .dataframe tbody tr th {\n",
       "        vertical-align: top;\n",
       "    }\n",
       "\n",
       "    .dataframe thead th {\n",
       "        text-align: right;\n",
       "    }\n",
       "</style>\n",
       "<table border=\"1\" class=\"dataframe\">\n",
       "  <thead>\n",
       "    <tr style=\"text-align: right;\">\n",
       "      <th></th>\n",
       "      <th>Training Pipeline RF CV Hyper Parameter Tuning</th>\n",
       "      <th>Test Pipeline RF CV Hyper Parameter Tuning</th>\n",
       "    </tr>\n",
       "  </thead>\n",
       "  <tbody>\n",
       "    <tr>\n",
       "      <th>Accuracy</th>\n",
       "      <td>0.637104</td>\n",
       "      <td>0.630334</td>\n",
       "    </tr>\n",
       "    <tr>\n",
       "      <th>Recall</th>\n",
       "      <td>0.984211</td>\n",
       "      <td>0.981818</td>\n",
       "    </tr>\n",
       "    <tr>\n",
       "      <th>Precision</th>\n",
       "      <td>0.613543</td>\n",
       "      <td>0.609404</td>\n",
       "    </tr>\n",
       "    <tr>\n",
       "      <th>F1</th>\n",
       "      <td>0.755881</td>\n",
       "      <td>0.755881</td>\n",
       "    </tr>\n",
       "  </tbody>\n",
       "</table>\n",
       "</div>"
      ],
      "text/plain": [
       "           Training Pipeline RF CV Hyper Parameter Tuning  \\\n",
       "Accuracy                                         0.637104   \n",
       "Recall                                           0.984211   \n",
       "Precision                                        0.613543   \n",
       "F1                                               0.755881   \n",
       "\n",
       "           Test Pipeline RF CV Hyper Parameter Tuning  \n",
       "Accuracy                                     0.630334  \n",
       "Recall                                       0.981818  \n",
       "Precision                                    0.609404  \n",
       "F1                                           0.755881  "
      ]
     },
     "execution_count": 99,
     "metadata": {},
     "output_type": "execute_result"
    }
   ],
   "source": [
    "df_RF_CV_HPT = Eva_Matrix1(RF_HPT_CV, X_train, y_train, X_test, y_test, \"Pipeline RF CV Hyper Parameter Tuning\")\n",
    "df_RF_CV_HPT"
   ]
  },
  {
   "cell_type": "code",
   "execution_count": 100,
   "metadata": {},
   "outputs": [
    {
     "name": "stdout",
     "output_type": "stream",
     "text": [
      "              precision    recall  f1-score   support\n",
      "\n",
      "           0       0.87      0.16      0.27      1488\n",
      "           1       0.61      0.98      0.75      1980\n",
      "\n",
      "    accuracy                           0.63      3468\n",
      "   macro avg       0.74      0.57      0.51      3468\n",
      "weighted avg       0.72      0.63      0.55      3468\n",
      "\n"
     ]
    },
    {
     "data": {
      "image/png": "[encoded data removed]",
      "text/plain": [
       "<Figure size 432x288 with 2 Axes>"
      ]
     },
     "metadata": {},
     "output_type": "display_data"
    }
   ],
   "source": [
    "print(classification_report(y_test, y_test_RF_HPT_CV))\n",
    "cm_RF_CV_test_HPT = confusion_matrix(y_test, y_test_RF_HPT_CV, labels = [1,0])\n",
    "df_RF_CV_test_HPT = pd.DataFrame(data=cm_RF_CV_test_HPT, columns=['Pred 1', 'Pred 0'], index=['Akt 1', 'Akt 0'])\n",
    "sns.heatmap(df_RF_CV_test_HPT, annot=True)\n",
    "plt.show()"
   ]
  },
  {
   "cell_type": "markdown",
   "metadata": {},
   "source": [
    "### RandomForestClassifier (TfidfVectorizer)"
   ]
  },
  {
   "cell_type": "code",
   "execution_count": 101,
   "metadata": {},
   "outputs": [],
   "source": [
    "RF_GS_TV = GridSearchCV(pipe_RF_TV, param_RF, cv = skf, scoring = 'recall', n_jobs = -1, verbose = 1)"
   ]
  },
  {
   "cell_type": "code",
   "execution_count": 102,
   "metadata": {},
   "outputs": [
    {
     "name": "stdout",
     "output_type": "stream",
     "text": [
      "Fitting 3 folds for each of 108 candidates, totalling 324 fits\n"
     ]
    },
    {
     "name": "stderr",
     "output_type": "stream",
     "text": [
      "[Parallel(n_jobs=-1)]: Using backend LokyBackend with 4 concurrent workers.\n",
      "[Parallel(n_jobs=-1)]: Done  42 tasks      | elapsed: 118.4min\n",
      "[Parallel(n_jobs=-1)]: Done 192 tasks      | elapsed: 371.7min\n",
      "[Parallel(n_jobs=-1)]: Done 324 out of 324 | elapsed: 413.4min finished\n"
     ]
    },
    {
     "data": {
      "text/plain": [
       "GridSearchCV(cv=StratifiedKFold(n_splits=3, random_state=42, shuffle=False),\n",
       "             estimator=Pipeline(steps=[('prep',\n",
       "                                        TfidfVectorizer(ngram_range=(1, 2))),\n",
       "                                       ('algo', RandomForestClassifier())]),\n",
       "             n_jobs=-1,\n",
       "             param_grid={'algo__max_depth': [None, 5, 10],\n",
       "                         'algo__max_features': [0.3, 0.5, 0.7, 0.8],\n",
       "                         'algo__min_samples_leaf': array([ 1,  6, 11]),\n",
       "                         'algo__n_estimators': array([100, 200, 300])},\n",
       "             scoring='recall', verbose=1)"
      ]
     },
     "execution_count": 102,
     "metadata": {},
     "output_type": "execute_result"
    }
   ],
   "source": [
    "RF_GS_TV.fit(X_train, y_train)"
   ]
  },
  {
   "cell_type": "code",
   "execution_count": 103,
   "metadata": {},
   "outputs": [],
   "source": [
    "RF_HPT_TV = RF_GS_TV.best_estimator_"
   ]
  },
  {
   "cell_type": "code",
   "execution_count": 104,
   "metadata": {},
   "outputs": [],
   "source": [
    "y_test_RF_HPT_TV = RF_HPT_TV.predict(X_test)"
   ]
  },
  {
   "cell_type": "code",
   "execution_count": 105,
   "metadata": {},
   "outputs": [
    {
     "data": {
      "text/html": [
       "<div>\n",
       "<style scoped>\n",
       "    .dataframe tbody tr th:only-of-type {\n",
       "        vertical-align: middle;\n",
       "    }\n",
       "\n",
       "    .dataframe tbody tr th {\n",
       "        vertical-align: top;\n",
       "    }\n",
       "\n",
       "    .dataframe thead th {\n",
       "        text-align: right;\n",
       "    }\n",
       "</style>\n",
       "<table border=\"1\" class=\"dataframe\">\n",
       "  <thead>\n",
       "    <tr style=\"text-align: right;\">\n",
       "      <th></th>\n",
       "      <th>Training Pipeline RF TV Hyper Parameter Tuning</th>\n",
       "      <th>Test Pipeline RF TV Hyper Parameter Tuning</th>\n",
       "    </tr>\n",
       "  </thead>\n",
       "  <tbody>\n",
       "    <tr>\n",
       "      <th>Accuracy</th>\n",
       "      <td>0.638042</td>\n",
       "      <td>0.630911</td>\n",
       "    </tr>\n",
       "    <tr>\n",
       "      <th>Recall</th>\n",
       "      <td>0.985348</td>\n",
       "      <td>0.983333</td>\n",
       "    </tr>\n",
       "    <tr>\n",
       "      <th>Precision</th>\n",
       "      <td>0.614010</td>\n",
       "      <td>0.609580</td>\n",
       "    </tr>\n",
       "    <tr>\n",
       "      <th>F1</th>\n",
       "      <td>0.756571</td>\n",
       "      <td>0.756571</td>\n",
       "    </tr>\n",
       "  </tbody>\n",
       "</table>\n",
       "</div>"
      ],
      "text/plain": [
       "           Training Pipeline RF TV Hyper Parameter Tuning  \\\n",
       "Accuracy                                         0.638042   \n",
       "Recall                                           0.985348   \n",
       "Precision                                        0.614010   \n",
       "F1                                               0.756571   \n",
       "\n",
       "           Test Pipeline RF TV Hyper Parameter Tuning  \n",
       "Accuracy                                     0.630911  \n",
       "Recall                                       0.983333  \n",
       "Precision                                    0.609580  \n",
       "F1                                           0.756571  "
      ]
     },
     "execution_count": 105,
     "metadata": {},
     "output_type": "execute_result"
    }
   ],
   "source": [
    "df_RF_TV_HPT = Eva_Matrix1(RF_HPT_TV, X_train, y_train, X_test, y_test, \"Pipeline RF TV Hyper Parameter Tuning\")\n",
    "df_RF_TV_HPT"
   ]
  },
  {
   "cell_type": "code",
   "execution_count": 106,
   "metadata": {},
   "outputs": [
    {
     "name": "stdout",
     "output_type": "stream",
     "text": [
      "              precision    recall  f1-score   support\n",
      "\n",
      "           0       0.88      0.16      0.27      1488\n",
      "           1       0.61      0.98      0.75      1980\n",
      "\n",
      "    accuracy                           0.63      3468\n",
      "   macro avg       0.74      0.57      0.51      3468\n",
      "weighted avg       0.73      0.63      0.55      3468\n",
      "\n"
     ]
    },
    {
     "data": {
      "image/png": "[encoded data removed]",
      "text/plain": [
       "<Figure size 432x288 with 2 Axes>"
      ]
     },
     "metadata": {},
     "output_type": "display_data"
    }
   ],
   "source": [
    "print(classification_report(y_test, y_test_RF_HPT_TV))\n",
    "cm_RF_TV_test_HPT = confusion_matrix(y_test, y_test_RF_HPT_TV, labels = [1,0])\n",
    "df_RF_TV_test_HPT = pd.DataFrame(data=cm_RF_TV_test_HPT, columns=['Pred 1', 'Pred 0'], index=['Akt 1', 'Akt 0'])\n",
    "sns.heatmap(df_RF_TV_test_HPT, annot=True)\n",
    "plt.show()"
   ]
  },
  {
   "cell_type": "markdown",
   "metadata": {},
   "source": [
    "### ---------------------------------------------------------------------------------------------------------"
   ]
  },
  {
   "cell_type": "markdown",
   "metadata": {},
   "source": [
    "## Fine Tuning"
   ]
  },
  {
   "cell_type": "markdown",
   "metadata": {},
   "source": [
    "### RandomForestClassifier TfidfVectorizer (Fine Tuning)"
   ]
  },
  {
   "cell_type": "code",
   "execution_count": 334,
   "metadata": {},
   "outputs": [],
   "source": [
    "pipeRF_Tuning = Pipeline([\n",
    "    (\"prep\", TfidfVectorizer(ngram_range=(1,2))),\n",
    "    (\"algo\", RandomForestClassifier(n_estimators = 201, max_depth = 21, max_features = 0.1, min_samples_leaf = 4, min_samples_split = 8, random_state=42))\n",
    "])"
   ]
  },
  {
   "cell_type": "code",
   "execution_count": 335,
   "metadata": {},
   "outputs": [
    {
     "data": {
      "text/plain": [
       "Pipeline(steps=[('prep', TfidfVectorizer(ngram_range=(1, 2))),\n",
       "                ('algo',\n",
       "                 RandomForestClassifier(max_depth=21, max_features=0.1,\n",
       "                                        min_samples_leaf=4, min_samples_split=8,\n",
       "                                        n_estimators=201, random_state=42))])"
      ]
     },
     "execution_count": 335,
     "metadata": {},
     "output_type": "execute_result"
    }
   ],
   "source": [
    "pipeRF_Tuning.fit(X_train, y_train)"
   ]
  },
  {
   "cell_type": "code",
   "execution_count": 336,
   "metadata": {},
   "outputs": [],
   "source": [
    "y_test_RF_Fine_Tuned = pipeRF_Tuning.predict(X_test)"
   ]
  },
  {
   "cell_type": "code",
   "execution_count": 337,
   "metadata": {},
   "outputs": [
    {
     "data": {
      "text/html": [
       "<div>\n",
       "<style scoped>\n",
       "    .dataframe tbody tr th:only-of-type {\n",
       "        vertical-align: middle;\n",
       "    }\n",
       "\n",
       "    .dataframe tbody tr th {\n",
       "        vertical-align: top;\n",
       "    }\n",
       "\n",
       "    .dataframe thead th {\n",
       "        text-align: right;\n",
       "    }\n",
       "</style>\n",
       "<table border=\"1\" class=\"dataframe\">\n",
       "  <thead>\n",
       "    <tr style=\"text-align: right;\">\n",
       "      <th></th>\n",
       "      <th>Training Pipeline RF Fine Tuning</th>\n",
       "      <th>Test Pipeline RF Fine Tuning</th>\n",
       "    </tr>\n",
       "  </thead>\n",
       "  <tbody>\n",
       "    <tr>\n",
       "      <th>Accuracy</th>\n",
       "      <td>0.733290</td>\n",
       "      <td>0.722030</td>\n",
       "    </tr>\n",
       "    <tr>\n",
       "      <th>Recall</th>\n",
       "      <td>0.957054</td>\n",
       "      <td>0.947475</td>\n",
       "    </tr>\n",
       "    <tr>\n",
       "      <th>Precision</th>\n",
       "      <td>0.692849</td>\n",
       "      <td>0.685673</td>\n",
       "    </tr>\n",
       "    <tr>\n",
       "      <th>F1</th>\n",
       "      <td>0.803798</td>\n",
       "      <td>0.803798</td>\n",
       "    </tr>\n",
       "  </tbody>\n",
       "</table>\n",
       "</div>"
      ],
      "text/plain": [
       "           Training Pipeline RF Fine Tuning  Test Pipeline RF Fine Tuning\n",
       "Accuracy                           0.733290                      0.722030\n",
       "Recall                             0.957054                      0.947475\n",
       "Precision                          0.692849                      0.685673\n",
       "F1                                 0.803798                      0.803798"
      ]
     },
     "execution_count": 337,
     "metadata": {},
     "output_type": "execute_result"
    }
   ],
   "source": [
    "df_RF_Fine_Tuned = Eva_Matrix1(pipeRF_Tuning, X_train, y_train, X_test, y_test, \"Pipeline RF Fine Tuning\")\n",
    "df_RF_Fine_Tuned"
   ]
  },
  {
   "cell_type": "code",
   "execution_count": 338,
   "metadata": {},
   "outputs": [
    {
     "name": "stdout",
     "output_type": "stream",
     "text": [
      "              precision    recall  f1-score   support\n",
      "\n",
      "           0       0.86      0.42      0.57      1488\n",
      "           1       0.69      0.95      0.80      1980\n",
      "\n",
      "    accuracy                           0.72      3468\n",
      "   macro avg       0.77      0.68      0.68      3468\n",
      "weighted avg       0.76      0.72      0.70      3468\n",
      "\n"
     ]
    },
    {
     "data": {
      "image/png": "[encoded data removed]",
      "text/plain": [
       "<Figure size 432x288 with 2 Axes>"
      ]
     },
     "metadata": {},
     "output_type": "display_data"
    }
   ],
   "source": [
    "print(classification_report(y_test, y_test_RF_Fine_Tuned))\n",
    "cm_RF_Fine_tuned_test = confusion_matrix(y_test, y_test_RF_Fine_Tuned, labels = [1,0])\n",
    "df_RF_Fine_tuned_test = pd.DataFrame(data=cm_RF_Fine_tuned_test, columns=['Pred 1', 'Pred 0'], index=['Akt 1', 'Akt 0'])\n",
    "sns.heatmap(df_RF_Fine_tuned_test, annot=True)\n",
    "plt.show()"
   ]
  },
  {
   "cell_type": "markdown",
   "metadata": {},
   "source": [
    "### ---------------------------------------------------------------------------------------------------------"
   ]
  },
  {
   "cell_type": "markdown",
   "metadata": {},
   "source": [
    "### KNN TfidfVectorizer (Fine Tuning)"
   ]
  },
  {
   "cell_type": "code",
   "execution_count": 289,
   "metadata": {},
   "outputs": [],
   "source": [
    "pipeKNN_Tuning = Pipeline([\n",
    "    (\"prep\", TfidfVectorizer(ngram_range=(1,2))),\n",
    "    (\"algo\", KNeighborsClassifier(n_neighbors = 26, p = 1, weights = 'uniform'))\n",
    "])"
   ]
  },
  {
   "cell_type": "code",
   "execution_count": 290,
   "metadata": {},
   "outputs": [
    {
     "data": {
      "text/plain": [
       "Pipeline(steps=[('prep', TfidfVectorizer(ngram_range=(1, 2))),\n",
       "                ('algo', KNeighborsClassifier(n_neighbors=26, p=1))])"
      ]
     },
     "execution_count": 290,
     "metadata": {},
     "output_type": "execute_result"
    }
   ],
   "source": [
    "pipeKNN_Tuning.fit(X_train, y_train)"
   ]
  },
  {
   "cell_type": "code",
   "execution_count": 291,
   "metadata": {},
   "outputs": [],
   "source": [
    "y_test_KNN_Fine_Tuned = pipeKNN_Tuning.predict(X_test)"
   ]
  },
  {
   "cell_type": "code",
   "execution_count": 292,
   "metadata": {},
   "outputs": [
    {
     "data": {
      "text/html": [
       "<div>\n",
       "<style scoped>\n",
       "    .dataframe tbody tr th:only-of-type {\n",
       "        vertical-align: middle;\n",
       "    }\n",
       "\n",
       "    .dataframe tbody tr th {\n",
       "        vertical-align: top;\n",
       "    }\n",
       "\n",
       "    .dataframe thead th {\n",
       "        text-align: right;\n",
       "    }\n",
       "</style>\n",
       "<table border=\"1\" class=\"dataframe\">\n",
       "  <thead>\n",
       "    <tr style=\"text-align: right;\">\n",
       "      <th></th>\n",
       "      <th>Training Pipeline KNN Fine Tuning</th>\n",
       "      <th>Test Pipeline KNN Fine Tuning</th>\n",
       "    </tr>\n",
       "  </thead>\n",
       "  <tbody>\n",
       "    <tr>\n",
       "      <th>Accuracy</th>\n",
       "      <td>0.647992</td>\n",
       "      <td>0.622549</td>\n",
       "    </tr>\n",
       "    <tr>\n",
       "      <th>Recall</th>\n",
       "      <td>0.958318</td>\n",
       "      <td>0.937879</td>\n",
       "    </tr>\n",
       "    <tr>\n",
       "      <th>Precision</th>\n",
       "      <td>0.625010</td>\n",
       "      <td>0.610253</td>\n",
       "    </tr>\n",
       "    <tr>\n",
       "      <th>F1</th>\n",
       "      <td>0.756582</td>\n",
       "      <td>0.756582</td>\n",
       "    </tr>\n",
       "  </tbody>\n",
       "</table>\n",
       "</div>"
      ],
      "text/plain": [
       "           Training Pipeline KNN Fine Tuning  Test Pipeline KNN Fine Tuning\n",
       "Accuracy                            0.647992                       0.622549\n",
       "Recall                              0.958318                       0.937879\n",
       "Precision                           0.625010                       0.610253\n",
       "F1                                  0.756582                       0.756582"
      ]
     },
     "execution_count": 292,
     "metadata": {},
     "output_type": "execute_result"
    }
   ],
   "source": [
    "df_KNN_Fine_Tuned = Eva_Matrix1(pipeKNN_Tuning, X_train, y_train, X_test, y_test, \"Pipeline KNN Fine Tuning\")\n",
    "df_KNN_Fine_Tuned"
   ]
  },
  {
   "cell_type": "code",
   "execution_count": 293,
   "metadata": {},
   "outputs": [
    {
     "name": "stdout",
     "output_type": "stream",
     "text": [
      "              precision    recall  f1-score   support\n",
      "\n",
      "           0       0.71      0.20      0.32      1488\n",
      "           1       0.61      0.94      0.74      1980\n",
      "\n",
      "    accuracy                           0.62      3468\n",
      "   macro avg       0.66      0.57      0.53      3468\n",
      "weighted avg       0.65      0.62      0.56      3468\n",
      "\n"
     ]
    },
    {
     "data": {
      "image/png": "[encoded data removed]",
      "text/plain": [
       "<Figure size 432x288 with 2 Axes>"
      ]
     },
     "metadata": {},
     "output_type": "display_data"
    }
   ],
   "source": [
    "print(classification_report(y_test, y_test_KNN_Fine_Tuned))\n",
    "cm_KNN_Fine_tuned_test = confusion_matrix(y_test, y_test_KNN_Fine_Tuned, labels = [1,0])\n",
    "df_KNN_Fine_tuned_test = pd.DataFrame(data=cm_KNN_Fine_tuned_test, columns=['Pred 1', 'Pred 0'], index=['Akt 1', 'Akt 0'])\n",
    "sns.heatmap(df_KNN_Fine_tuned_test, annot=True)\n",
    "plt.show()"
   ]
  },
  {
   "cell_type": "markdown",
   "metadata": {},
   "source": [
    "### ---------------------------------------------------------------------------------------------------------"
   ]
  },
  {
   "cell_type": "markdown",
   "metadata": {},
   "source": [
    "## Joblib Model Pipeline Fine Tuning RandomForestClassifier"
   ]
  },
  {
   "cell_type": "code",
   "execution_count": 339,
   "metadata": {},
   "outputs": [],
   "source": [
    "import joblib"
   ]
  },
  {
   "cell_type": "code",
   "execution_count": 340,
   "metadata": {},
   "outputs": [
    {
     "data": {
      "text/plain": [
       "['Model_RF_Sentiment_Analysis']"
      ]
     },
     "execution_count": 340,
     "metadata": {},
     "output_type": "execute_result"
    }
   ],
   "source": [
    "joblib.dump(pipeRF_Tuning, 'Model_RF_Sentiment_Analysis')"
   ]
  },
  {
   "cell_type": "markdown",
   "metadata": {},
   "source": [
    "### ---------------------------------------------------------------------------------------------------------"
   ]
  },
  {
   "cell_type": "markdown",
   "metadata": {},
   "source": [
    "## Conclusion Model"
   ]
  },
  {
   "cell_type": "markdown",
   "metadata": {},
   "source": [
    "### Base Model"
   ]
  },
  {
   "cell_type": "code",
   "execution_count": 357,
   "metadata": {},
   "outputs": [
    {
     "data": {
      "text/html": [
       "<div>\n",
       "<style scoped>\n",
       "    .dataframe tbody tr th:only-of-type {\n",
       "        vertical-align: middle;\n",
       "    }\n",
       "\n",
       "    .dataframe tbody tr th {\n",
       "        vertical-align: top;\n",
       "    }\n",
       "\n",
       "    .dataframe thead th {\n",
       "        text-align: right;\n",
       "    }\n",
       "</style>\n",
       "<table border=\"1\" class=\"dataframe\">\n",
       "  <thead>\n",
       "    <tr style=\"text-align: right;\">\n",
       "      <th></th>\n",
       "      <th>Accuracy</th>\n",
       "      <th>Recall</th>\n",
       "      <th>Precision</th>\n",
       "      <th>F1</th>\n",
       "    </tr>\n",
       "  </thead>\n",
       "  <tbody>\n",
       "    <tr>\n",
       "      <th>Training Pipeline LR CV</th>\n",
       "      <td>0.960704</td>\n",
       "      <td>0.996842</td>\n",
       "      <td>0.938184</td>\n",
       "      <td>0.966624</td>\n",
       "    </tr>\n",
       "    <tr>\n",
       "      <th>Test Pipeline LR CV</th>\n",
       "      <td>0.832757</td>\n",
       "      <td>0.906566</td>\n",
       "      <td>0.819635</td>\n",
       "      <td>0.966624</td>\n",
       "    </tr>\n",
       "    <tr>\n",
       "      <th>Training Pipeline LR TV</th>\n",
       "      <td>0.960704</td>\n",
       "      <td>0.996842</td>\n",
       "      <td>0.938184</td>\n",
       "      <td>0.966624</td>\n",
       "    </tr>\n",
       "    <tr>\n",
       "      <th>Test Pipeline LR TV</th>\n",
       "      <td>0.832757</td>\n",
       "      <td>0.906566</td>\n",
       "      <td>0.819635</td>\n",
       "      <td>0.966624</td>\n",
       "    </tr>\n",
       "    <tr>\n",
       "      <th>Training Pipeline KNN CV</th>\n",
       "      <td>0.814190</td>\n",
       "      <td>0.887331</td>\n",
       "      <td>0.806544</td>\n",
       "      <td>0.845011</td>\n",
       "    </tr>\n",
       "    <tr>\n",
       "      <th>Test Pipeline KNN CV</th>\n",
       "      <td>0.693772</td>\n",
       "      <td>0.802020</td>\n",
       "      <td>0.703277</td>\n",
       "      <td>0.845011</td>\n",
       "    </tr>\n",
       "    <tr>\n",
       "      <th>Training Pipeline KNN TV</th>\n",
       "      <td>0.814190</td>\n",
       "      <td>0.887331</td>\n",
       "      <td>0.806544</td>\n",
       "      <td>0.845011</td>\n",
       "    </tr>\n",
       "    <tr>\n",
       "      <th>Test Pipeline KNN TV</th>\n",
       "      <td>0.693772</td>\n",
       "      <td>0.802020</td>\n",
       "      <td>0.703277</td>\n",
       "      <td>0.845011</td>\n",
       "    </tr>\n",
       "    <tr>\n",
       "      <th>Training Pipeline DT CV</th>\n",
       "      <td>0.998918</td>\n",
       "      <td>0.998484</td>\n",
       "      <td>0.999621</td>\n",
       "      <td>0.999052</td>\n",
       "    </tr>\n",
       "    <tr>\n",
       "      <th>Test Pipeline DT CV</th>\n",
       "      <td>0.711073</td>\n",
       "      <td>0.652020</td>\n",
       "      <td>0.804863</td>\n",
       "      <td>0.999052</td>\n",
       "    </tr>\n",
       "    <tr>\n",
       "      <th>Training Pipeline DT TV</th>\n",
       "      <td>0.998918</td>\n",
       "      <td>0.998484</td>\n",
       "      <td>0.999621</td>\n",
       "      <td>0.999052</td>\n",
       "    </tr>\n",
       "    <tr>\n",
       "      <th>Test Pipeline DT TV</th>\n",
       "      <td>0.711073</td>\n",
       "      <td>0.652020</td>\n",
       "      <td>0.804863</td>\n",
       "      <td>0.999052</td>\n",
       "    </tr>\n",
       "    <tr>\n",
       "      <th>Training Pipeline RF CV</th>\n",
       "      <td>0.998918</td>\n",
       "      <td>0.998863</td>\n",
       "      <td>0.999242</td>\n",
       "      <td>0.999052</td>\n",
       "    </tr>\n",
       "    <tr>\n",
       "      <th>Test Pipeline RF CV</th>\n",
       "      <td>0.761246</td>\n",
       "      <td>0.722727</td>\n",
       "      <td>0.836842</td>\n",
       "      <td>0.999052</td>\n",
       "    </tr>\n",
       "    <tr>\n",
       "      <th>Training Pipeline RF TV</th>\n",
       "      <td>0.998918</td>\n",
       "      <td>0.998863</td>\n",
       "      <td>0.999242</td>\n",
       "      <td>0.999052</td>\n",
       "    </tr>\n",
       "    <tr>\n",
       "      <th>Test Pipeline RF TV</th>\n",
       "      <td>0.761246</td>\n",
       "      <td>0.722727</td>\n",
       "      <td>0.836842</td>\n",
       "      <td>0.999052</td>\n",
       "    </tr>\n",
       "  </tbody>\n",
       "</table>\n",
       "</div>"
      ],
      "text/plain": [
       "                          Accuracy    Recall  Precision        F1\n",
       "Training Pipeline LR CV   0.960704  0.996842   0.938184  0.966624\n",
       "Test Pipeline LR CV       0.832757  0.906566   0.819635  0.966624\n",
       "Training Pipeline LR TV   0.960704  0.996842   0.938184  0.966624\n",
       "Test Pipeline LR TV       0.832757  0.906566   0.819635  0.966624\n",
       "Training Pipeline KNN CV  0.814190  0.887331   0.806544  0.845011\n",
       "Test Pipeline KNN CV      0.693772  0.802020   0.703277  0.845011\n",
       "Training Pipeline KNN TV  0.814190  0.887331   0.806544  0.845011\n",
       "Test Pipeline KNN TV      0.693772  0.802020   0.703277  0.845011\n",
       "Training Pipeline DT CV   0.998918  0.998484   0.999621  0.999052\n",
       "Test Pipeline DT CV       0.711073  0.652020   0.804863  0.999052\n",
       "Training Pipeline DT TV   0.998918  0.998484   0.999621  0.999052\n",
       "Test Pipeline DT TV       0.711073  0.652020   0.804863  0.999052\n",
       "Training Pipeline RF CV   0.998918  0.998863   0.999242  0.999052\n",
       "Test Pipeline RF CV       0.761246  0.722727   0.836842  0.999052\n",
       "Training Pipeline RF TV   0.998918  0.998863   0.999242  0.999052\n",
       "Test Pipeline RF TV       0.761246  0.722727   0.836842  0.999052"
      ]
     },
     "execution_count": 357,
     "metadata": {},
     "output_type": "execute_result"
    }
   ],
   "source": [
    "base_model = pd.concat([df_base_LR_CV, df_base_LR_TV, \n",
    "           df_base_KNN_CV, df_base_KNN_TV,\n",
    "           df_base_DT_CV, df_base_DT_TV,\n",
    "           df_base_RF_CV, df_base_RF_TV], axis=1, join=\"inner\").T\n",
    "base_model"
   ]
  },
  {
   "cell_type": "markdown",
   "metadata": {},
   "source": [
    "From table above, for all base model seems overfitting at Recall even for CountVectorizer and TfidfVectorizer. So i decided to do hyper parameter tuning for the model."
   ]
  },
  {
   "cell_type": "markdown",
   "metadata": {},
   "source": [
    "### Hyper Parameter Tuning Model"
   ]
  },
  {
   "cell_type": "code",
   "execution_count": 358,
   "metadata": {},
   "outputs": [
    {
     "data": {
      "text/html": [
       "<div>\n",
       "<style scoped>\n",
       "    .dataframe tbody tr th:only-of-type {\n",
       "        vertical-align: middle;\n",
       "    }\n",
       "\n",
       "    .dataframe tbody tr th {\n",
       "        vertical-align: top;\n",
       "    }\n",
       "\n",
       "    .dataframe thead th {\n",
       "        text-align: right;\n",
       "    }\n",
       "</style>\n",
       "<table border=\"1\" class=\"dataframe\">\n",
       "  <thead>\n",
       "    <tr style=\"text-align: right;\">\n",
       "      <th></th>\n",
       "      <th>Accuracy</th>\n",
       "      <th>Recall</th>\n",
       "      <th>Precision</th>\n",
       "      <th>F1</th>\n",
       "    </tr>\n",
       "  </thead>\n",
       "  <tbody>\n",
       "    <tr>\n",
       "      <th>Training Pipeline LR CV Hyper Parameter Tuning</th>\n",
       "      <td>0.621242</td>\n",
       "      <td>0.988632</td>\n",
       "      <td>0.602540</td>\n",
       "      <td>0.748744</td>\n",
       "    </tr>\n",
       "    <tr>\n",
       "      <th>Test Pipeline LR CV Hyper Parameter Tuning</th>\n",
       "      <td>0.613033</td>\n",
       "      <td>0.985354</td>\n",
       "      <td>0.597733</td>\n",
       "      <td>0.748744</td>\n",
       "    </tr>\n",
       "    <tr>\n",
       "      <th>Training Pipeline LR TV Hyper Parameter Tuning</th>\n",
       "      <td>0.570841</td>\n",
       "      <td>1.000000</td>\n",
       "      <td>0.570841</td>\n",
       "      <td>0.726797</td>\n",
       "    </tr>\n",
       "    <tr>\n",
       "      <th>Test Pipeline LR TV Hyper Parameter Tuning</th>\n",
       "      <td>0.570934</td>\n",
       "      <td>1.000000</td>\n",
       "      <td>0.570934</td>\n",
       "      <td>0.726797</td>\n",
       "    </tr>\n",
       "    <tr>\n",
       "      <th>Training Pipeline KNN CV Hyper Parameter Tuning</th>\n",
       "      <td>0.582162</td>\n",
       "      <td>0.997853</td>\n",
       "      <td>0.577570</td>\n",
       "      <td>0.731651</td>\n",
       "    </tr>\n",
       "    <tr>\n",
       "      <th>Test Pipeline KNN CV Hyper Parameter Tuning</th>\n",
       "      <td>0.579585</td>\n",
       "      <td>0.997475</td>\n",
       "      <td>0.576138</td>\n",
       "      <td>0.731651</td>\n",
       "    </tr>\n",
       "    <tr>\n",
       "      <th>Training Pipeline KNN TV Hyper Parameter Tuning</th>\n",
       "      <td>0.584757</td>\n",
       "      <td>0.993811</td>\n",
       "      <td>0.579467</td>\n",
       "      <td>0.732077</td>\n",
       "    </tr>\n",
       "    <tr>\n",
       "      <th>Test Pipeline KNN TV Hyper Parameter Tuning</th>\n",
       "      <td>0.584775</td>\n",
       "      <td>0.988889</td>\n",
       "      <td>0.579976</td>\n",
       "      <td>0.732077</td>\n",
       "    </tr>\n",
       "    <tr>\n",
       "      <th>Training Pipeline DT CV Hyper Parameter Tuning</th>\n",
       "      <td>0.617925</td>\n",
       "      <td>0.989895</td>\n",
       "      <td>0.600260</td>\n",
       "      <td>0.747342</td>\n",
       "    </tr>\n",
       "    <tr>\n",
       "      <th>Test Pipeline DT CV Hyper Parameter Tuning</th>\n",
       "      <td>0.611303</td>\n",
       "      <td>0.985859</td>\n",
       "      <td>0.596577</td>\n",
       "      <td>0.747342</td>\n",
       "    </tr>\n",
       "    <tr>\n",
       "      <th>Training Pipeline DT TV Hyper Parameter Tuning</th>\n",
       "      <td>0.617636</td>\n",
       "      <td>0.992800</td>\n",
       "      <td>0.599725</td>\n",
       "      <td>0.747752</td>\n",
       "    </tr>\n",
       "    <tr>\n",
       "      <th>Test Pipeline DT TV Hyper Parameter Tuning</th>\n",
       "      <td>0.610438</td>\n",
       "      <td>0.990909</td>\n",
       "      <td>0.595448</td>\n",
       "      <td>0.747752</td>\n",
       "    </tr>\n",
       "    <tr>\n",
       "      <th>Training Pipeline RF CV Hyper Parameter Tuning</th>\n",
       "      <td>0.637104</td>\n",
       "      <td>0.984211</td>\n",
       "      <td>0.613543</td>\n",
       "      <td>0.755881</td>\n",
       "    </tr>\n",
       "    <tr>\n",
       "      <th>Test Pipeline RF CV Hyper Parameter Tuning</th>\n",
       "      <td>0.630334</td>\n",
       "      <td>0.981818</td>\n",
       "      <td>0.609404</td>\n",
       "      <td>0.755881</td>\n",
       "    </tr>\n",
       "    <tr>\n",
       "      <th>Training Pipeline RF TV Hyper Parameter Tuning</th>\n",
       "      <td>0.638042</td>\n",
       "      <td>0.985348</td>\n",
       "      <td>0.614010</td>\n",
       "      <td>0.756571</td>\n",
       "    </tr>\n",
       "    <tr>\n",
       "      <th>Test Pipeline RF TV Hyper Parameter Tuning</th>\n",
       "      <td>0.630911</td>\n",
       "      <td>0.983333</td>\n",
       "      <td>0.609580</td>\n",
       "      <td>0.756571</td>\n",
       "    </tr>\n",
       "  </tbody>\n",
       "</table>\n",
       "</div>"
      ],
      "text/plain": [
       "                                                 Accuracy    Recall  \\\n",
       "Training Pipeline LR CV Hyper Parameter Tuning   0.621242  0.988632   \n",
       "Test Pipeline LR CV Hyper Parameter Tuning       0.613033  0.985354   \n",
       "Training Pipeline LR TV Hyper Parameter Tuning   0.570841  1.000000   \n",
       "Test Pipeline LR TV Hyper Parameter Tuning       0.570934  1.000000   \n",
       "Training Pipeline KNN CV Hyper Parameter Tuning  0.582162  0.997853   \n",
       "Test Pipeline KNN CV Hyper Parameter Tuning      0.579585  0.997475   \n",
       "Training Pipeline KNN TV Hyper Parameter Tuning  0.584757  0.993811   \n",
       "Test Pipeline KNN TV Hyper Parameter Tuning      0.584775  0.988889   \n",
       "Training Pipeline DT CV Hyper Parameter Tuning   0.617925  0.989895   \n",
       "Test Pipeline DT CV Hyper Parameter Tuning       0.611303  0.985859   \n",
       "Training Pipeline DT TV Hyper Parameter Tuning   0.617636  0.992800   \n",
       "Test Pipeline DT TV Hyper Parameter Tuning       0.610438  0.990909   \n",
       "Training Pipeline RF CV Hyper Parameter Tuning   0.637104  0.984211   \n",
       "Test Pipeline RF CV Hyper Parameter Tuning       0.630334  0.981818   \n",
       "Training Pipeline RF TV Hyper Parameter Tuning   0.638042  0.985348   \n",
       "Test Pipeline RF TV Hyper Parameter Tuning       0.630911  0.983333   \n",
       "\n",
       "                                                 Precision        F1  \n",
       "Training Pipeline LR CV Hyper Parameter Tuning    0.602540  0.748744  \n",
       "Test Pipeline LR CV Hyper Parameter Tuning        0.597733  0.748744  \n",
       "Training Pipeline LR TV Hyper Parameter Tuning    0.570841  0.726797  \n",
       "Test Pipeline LR TV Hyper Parameter Tuning        0.570934  0.726797  \n",
       "Training Pipeline KNN CV Hyper Parameter Tuning   0.577570  0.731651  \n",
       "Test Pipeline KNN CV Hyper Parameter Tuning       0.576138  0.731651  \n",
       "Training Pipeline KNN TV Hyper Parameter Tuning   0.579467  0.732077  \n",
       "Test Pipeline KNN TV Hyper Parameter Tuning       0.579976  0.732077  \n",
       "Training Pipeline DT CV Hyper Parameter Tuning    0.600260  0.747342  \n",
       "Test Pipeline DT CV Hyper Parameter Tuning        0.596577  0.747342  \n",
       "Training Pipeline DT TV Hyper Parameter Tuning    0.599725  0.747752  \n",
       "Test Pipeline DT TV Hyper Parameter Tuning        0.595448  0.747752  \n",
       "Training Pipeline RF CV Hyper Parameter Tuning    0.613543  0.755881  \n",
       "Test Pipeline RF CV Hyper Parameter Tuning        0.609404  0.755881  \n",
       "Training Pipeline RF TV Hyper Parameter Tuning    0.614010  0.756571  \n",
       "Test Pipeline RF TV Hyper Parameter Tuning        0.609580  0.756571  "
      ]
     },
     "execution_count": 358,
     "metadata": {},
     "output_type": "execute_result"
    }
   ],
   "source": [
    "hyper_parameter_model = pd.concat([df_LR_CV_HPT, df_LR_TV_HPT, \n",
    "           df_KNN_CV_HPT, df_KNN_TV_HPT,\n",
    "           df_DT_CV_HPT, df_DT_TV_HPT,\n",
    "           df_RF_CV_HPT, df_RF_TV_HPT], axis=1, join=\"inner\").T\n",
    "hyper_parameter_model"
   ]
  },
  {
   "cell_type": "markdown",
   "metadata": {},
   "source": [
    "After i do hyper parameter tuning for the model, the model seems really too perfect because the score of Recall is almost 1 however the Accuracy Score of all model is around at Coin Toss Learner, so i do some Fine Tuning at RandomForestClassifier TfidfVectorizer and KNN TfidfVectorizer to get a better model."
   ]
  },
  {
   "cell_type": "markdown",
   "metadata": {},
   "source": [
    "### Fine Tuning"
   ]
  },
  {
   "cell_type": "code",
   "execution_count": 359,
   "metadata": {},
   "outputs": [
    {
     "data": {
      "text/html": [
       "<div>\n",
       "<style scoped>\n",
       "    .dataframe tbody tr th:only-of-type {\n",
       "        vertical-align: middle;\n",
       "    }\n",
       "\n",
       "    .dataframe tbody tr th {\n",
       "        vertical-align: top;\n",
       "    }\n",
       "\n",
       "    .dataframe thead th {\n",
       "        text-align: right;\n",
       "    }\n",
       "</style>\n",
       "<table border=\"1\" class=\"dataframe\">\n",
       "  <thead>\n",
       "    <tr style=\"text-align: right;\">\n",
       "      <th></th>\n",
       "      <th>Accuracy</th>\n",
       "      <th>Recall</th>\n",
       "      <th>Precision</th>\n",
       "      <th>F1</th>\n",
       "    </tr>\n",
       "  </thead>\n",
       "  <tbody>\n",
       "    <tr>\n",
       "      <th>Training Pipeline RF Fine Tuning</th>\n",
       "      <td>0.733290</td>\n",
       "      <td>0.957054</td>\n",
       "      <td>0.692849</td>\n",
       "      <td>0.803798</td>\n",
       "    </tr>\n",
       "    <tr>\n",
       "      <th>Test Pipeline RF Fine Tuning</th>\n",
       "      <td>0.722030</td>\n",
       "      <td>0.947475</td>\n",
       "      <td>0.685673</td>\n",
       "      <td>0.803798</td>\n",
       "    </tr>\n",
       "    <tr>\n",
       "      <th>Training Pipeline KNN Fine Tuning</th>\n",
       "      <td>0.647992</td>\n",
       "      <td>0.958318</td>\n",
       "      <td>0.625010</td>\n",
       "      <td>0.756582</td>\n",
       "    </tr>\n",
       "    <tr>\n",
       "      <th>Test Pipeline KNN Fine Tuning</th>\n",
       "      <td>0.622549</td>\n",
       "      <td>0.937879</td>\n",
       "      <td>0.610253</td>\n",
       "      <td>0.756582</td>\n",
       "    </tr>\n",
       "  </tbody>\n",
       "</table>\n",
       "</div>"
      ],
      "text/plain": [
       "                                   Accuracy    Recall  Precision        F1\n",
       "Training Pipeline RF Fine Tuning   0.733290  0.957054   0.692849  0.803798\n",
       "Test Pipeline RF Fine Tuning       0.722030  0.947475   0.685673  0.803798\n",
       "Training Pipeline KNN Fine Tuning  0.647992  0.958318   0.625010  0.756582\n",
       "Test Pipeline KNN Fine Tuning      0.622549  0.937879   0.610253  0.756582"
      ]
     },
     "execution_count": 359,
     "metadata": {},
     "output_type": "execute_result"
    }
   ],
   "source": [
    "fine_tuning_model = pd.concat([df_RF_Fine_Tuned, df_KNN_Fine_Tuned], axis=1, join=\"inner\").T\n",
    "fine_tuning_model"
   ]
  },
  {
   "cell_type": "code",
   "execution_count": 365,
   "metadata": {},
   "outputs": [
    {
     "data": {
      "image/png": "[encoded data removed]",
      "text/plain": [
       "<Figure size 432x288 with 2 Axes>"
      ]
     },
     "metadata": {},
     "output_type": "display_data"
    }
   ],
   "source": [
    "sns.heatmap(df_RF_Fine_tuned_test, annot=True)\n",
    "plt.title('RF Fine Tuning Confusion Matrix', size=16)\n",
    "plt.show()"
   ]
  },
  {
   "cell_type": "code",
   "execution_count": 366,
   "metadata": {},
   "outputs": [
    {
     "data": {
      "image/png": "[encoded data removed]",
      "text/plain": [
       "<Figure size 432x288 with 2 Axes>"
      ]
     },
     "metadata": {},
     "output_type": "display_data"
    }
   ],
   "source": [
    "sns.heatmap(df_KNN_Fine_tuned_test, annot=True)\n",
    "plt.title('KNN Fine Tuning Confusion Matrix', size=16)\n",
    "plt.show()"
   ]
  },
  {
   "cell_type": "markdown",
   "metadata": {},
   "source": [
    "After i do some Fine Tuning, finally i found a better model for predicting which is a RandomForestClassifier with fine tuning as follows the parameters n_estimators = 201, max_depth = 21, max_features = 0.1, min_samples_leaf = 4, min_samples_split = 8, random_state=42 with the Recall score is 0.95 for data train, and 0.94 for data test. Comparing with the KNN fine tuning, the RandomForestClassifier is better at Accuracy Score and the Confusion Matrix, and we can see the False Negative (Actual 1, Prediction 0) & False Positive (Actual 0, Prediction 1) is lower at RandomForestClassifier Fine Tuning Model, and the model can appropriately to predict correctly."
   ]
  }
 ],
 "metadata": {
  "kernelspec": {
   "display_name": "Python 3",
   "language": "python",
   "name": "python3"
  },
  "language_info": {
   "codemirror_mode": {
    "name": "ipython",
    "version": 3
   },
   "file_extension": ".py",
   "mimetype": "text/x-python",
   "name": "python",
   "nbconvert_exporter": "python",
   "pygments_lexer": "ipython3",
   "version": "3.8.5"
  }
 },
 "nbformat": 4,
 "nbformat_minor": 4
}
